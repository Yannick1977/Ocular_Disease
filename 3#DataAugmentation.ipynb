{
 "cells":[
  {
   "cell_type":"markdown",
   "source":[
    "# Organiser les fichiers en sous repertoires par classes"
   ],
   "attachments":{
    
   },
   "metadata":{
    "datalore":{
     "node_id":"nvXI632DpeHZuQ1oIyo5Jj",
     "type":"MD",
     "hide_input_from_viewers":false,
     "hide_output_from_viewers":false,
     "report_properties":{
      
     }
    }
   }
  },
  {
   "cell_type":"markdown",
   "source":[
    "## Import"
   ],
   "attachments":{
    
   },
   "metadata":{
    "datalore":{
     "node_id":"aQWkV9fSeJTEEkfqVwuK7q",
     "type":"MD",
     "hide_input_from_viewers":false,
     "hide_output_from_viewers":false,
     "report_properties":{
      
     }
    }
   }
  },
  {
   "cell_type":"code",
   "source":[
    "import pandas as pd\n",
    "import numpy as np\n",
    "import shutil\n",
    "import os\n",
    "from keras_preprocessing.image import ImageDataGenerator\n",
    "import cv2"
   ],
   "execution_count":1,
   "outputs":[
    
   ],
   "metadata":{
    "datalore":{
     "node_id":"ol5SRcgLCGeIXjrmpBpSAm",
     "type":"CODE",
     "hide_input_from_viewers":false,
     "hide_output_from_viewers":false,
     "report_properties":{
      
     }
    }
   }
  },
  {
   "cell_type":"markdown",
   "source":[
    "## Constantes"
   ],
   "attachments":{
    
   },
   "metadata":{
    "datalore":{
     "node_id":"Ebr8hdy4ufZWgP51YM0Sqb",
     "type":"MD",
     "hide_input_from_viewers":false,
     "hide_output_from_viewers":false,
     "report_properties":{
      
     }
    }
   }
  },
  {
   "cell_type":"code",
   "source":[
    "PATH_SRC = '\/data\/workspace_files\/Ocular_dataset\/ODIR_TrainingDataSet_Preprocess'             # repertoire source contenant les images\n",
    "PATH_DST = '\/data\/workspace_files\/Ocular_dataset\/ODIR_TrainingDataSet_Organisation\/'           # repertoire de destination contenant les images organisés par repertoire (classe)\n",
    "PATH_DST_AUG = '\/data\/workspace_files\/Ocular_dataset\/ODIR_TrainingDataSet_Augmented\/'          # repertoire contenant les images avec les classes reequibrés\n",
    "PATH_DST_LIM = '\/data\/workspace_files\/Ocular_dataset\/ODIR_TrainingDataSet_Limited\/'            # repertoire contenant les images mais en nombre limite (classe toujours equilibés)\n",
    "FILE_NAME_FEATURES = 'X'                            # Nom du fichier de sauvegarde des données d'entrainement : features\n",
    "FILE_NAME_TARGET = 'y'                             # Nom du fichier de sauvegarde des données d'entrainement : target\n",
    "classes_columns = ['N', 'D', 'G', 'C', 'A', 'H', 'M', 'O']"
   ],
   "execution_count":2,
   "outputs":[
    
   ],
   "metadata":{
    "datalore":{
     "node_id":"AZliRSkFHEaDNCAdRTrO6Y",
     "type":"CODE",
     "hide_input_from_viewers":false,
     "hide_output_from_viewers":false,
     "report_properties":{
      
     }
    }
   }
  },
  {
   "cell_type":"markdown",
   "source":[
    "# Lecture fichier de donnée d'annotation preprocess"
   ],
   "attachments":{
    
   },
   "metadata":{
    "datalore":{
     "node_id":"uaf9maCNWkoxsuM7b5ULQJ",
     "type":"MD",
     "hide_input_from_viewers":false,
     "hide_output_from_viewers":false,
     "report_properties":{
      
     }
    }
   }
  },
  {
   "cell_type":"code",
   "source":[
    "df = pd.read_csv('\/data\/workspace_files\/Ocular_dataset\/ODIR_EYE_preprocess.csv', index_col=0)"
   ],
   "execution_count":3,
   "outputs":[
    
   ],
   "metadata":{
    "datalore":{
     "node_id":"bE4OwGps8o0d74mFmrfUJH",
     "type":"CODE",
     "hide_input_from_viewers":false,
     "hide_output_from_viewers":false,
     "report_properties":{
      
     }
    }
   }
  },
  {
   "cell_type":"markdown",
   "source":[
    "# Organisation des images"
   ],
   "attachments":{
    
   },
   "metadata":{
    "datalore":{
     "node_id":"KQJpE8FOD1w5kRxSA6k1hI",
     "type":"MD",
     "hide_input_from_viewers":true,
     "hide_output_from_viewers":true
    }
   }
  },
  {
   "cell_type":"markdown",
   "source":[
    "Creation du dossier de classement"
   ],
   "attachments":{
    
   },
   "metadata":{
    "datalore":{
     "node_id":"J87DRQYSzUIOWJdwCx1eGI",
     "type":"MD",
     "hide_input_from_viewers":false,
     "hide_output_from_viewers":false,
     "report_properties":{
      
     }
    }
   }
  },
  {
   "cell_type":"code",
   "source":[
    "if ~os.path.exists(PATH_DST):\n",
    "    os.makedirs(PATH_DST)"
   ],
   "execution_count":4,
   "outputs":[
    
   ],
   "metadata":{
    "datalore":{
     "node_id":"RLTLpXfMOKK91XNdHg6w8q",
     "type":"CODE",
     "hide_input_from_viewers":false,
     "hide_output_from_viewers":false,
     "report_properties":{
      
     }
    }
   }
  },
  {
   "cell_type":"markdown",
   "source":[
    "Copie des fichiers image en organisant les images par repertoire (classe)"
   ],
   "attachments":{
    
   },
   "metadata":{
    "datalore":{
     "node_id":"ZXrtfSrcm4HRJA1g7cVd8f",
     "type":"MD",
     "hide_input_from_viewers":false,
     "hide_output_from_viewers":false,
     "report_properties":{
      
     }
    }
   }
  },
  {
   "cell_type":"code",
   "source":[
    "for classe in classes_columns:\n",
    "    dst = PATH_DST+classe+'\/'\n",
    "    if ~os.path.exists(dst):\n",
    "        os.makedirs(dst, exist_ok=True)\n",
    "    lst= df[df.Diag==classe].Fundus.tolist()\n",
    "    print(f'Copy class {classe} in progress')\n",
    "    for file in lst:\n",
    "        src = os.path.join(PATH_SRC,file)\n",
    "        shutil.copy(src, dst)"
   ],
   "execution_count":7,
   "outputs":[
    {
     "name":"stdout",
     "text":[
      "Copy class N in progress\n",
      "Copy class D in progress\n",
      "Copy class G in progress\n",
      "Copy class C in progress\n",
      "Copy class A in progress\n",
      "Copy class H in progress\n",
      "Copy class M in progress\n",
      "Copy class O in progress\n"
     ],
     "output_type":"stream"
    }
   ],
   "metadata":{
    "datalore":{
     "node_id":"mSXx4AR2qFXmTUep3lHpxZ",
     "type":"CODE",
     "hide_input_from_viewers":false,
     "hide_output_from_viewers":false,
     "report_properties":{
      
     }
    }
   }
  },
  {
   "cell_type":"markdown",
   "source":[
    "# Equilibrage des classes"
   ],
   "attachments":{
    
   },
   "metadata":{
    "datalore":{
     "node_id":"NAsnJQVgLLbGnDITaFZ7bS",
     "type":"MD",
     "hide_input_from_viewers":true,
     "hide_output_from_viewers":true
    }
   }
  },
  {
   "cell_type":"markdown",
   "source":[
    "Creation des images supplementaires afin de reequilibrer les classes"
   ],
   "attachments":{
    
   },
   "metadata":{
    "datalore":{
     "node_id":"CrjdQBCgfSJTs8bOnBHMZ2",
     "type":"MD",
     "hide_input_from_viewers":false,
     "hide_output_from_viewers":false,
     "report_properties":{
      
     }
    }
   }
  },
  {
   "cell_type":"code",
   "source":[
    "if ~os.path.exists(PATH_DST_AUG):\n",
    "    os.makedirs(PATH_DST_AUG)"
   ],
   "execution_count":4,
   "outputs":[
    
   ],
   "metadata":{
    "datalore":{
     "node_id":"Qp11ga1PX8172MUiYs4sOk",
     "type":"CODE",
     "hide_input_from_viewers":false,
     "hide_output_from_viewers":false,
     "report_properties":{
      
     }
    }
   }
  },
  {
   "cell_type":"code",
   "source":[
    "\n",
    "datagen = ImageDataGenerator(\n",
    "    data_format='channels_last',\n",
    "    rotation_range=40,\n",
    "    height_shift_range=0.3,\n",
    "    width_shift_range=0.2,\n",
    "    zoom_range=0.2,\n",
    "    brightness_range=[0.4,0.9],\n",
    "    #horizontal_flip=True,\n",
    "    #vertical_flip=True,\n",
    "    fill_mode='constant')\n"
   ],
   "execution_count":5,
   "outputs":[
    
   ],
   "metadata":{
    "datalore":{
     "node_id":"YS3fvjSAIrjGFe4VVZ30HS",
     "type":"CODE",
     "hide_input_from_viewers":false,
     "hide_output_from_viewers":false,
     "report_properties":{
      
     }
    }
   }
  },
  {
   "cell_type":"markdown",
   "source":[
    "Creation d'images supplementaires pour chaque classe"
   ],
   "attachments":{
    
   },
   "metadata":{
    "datalore":{
     "node_id":"SPrfHTqmqeDGM8gMUGvzeK",
     "type":"MD",
     "hide_input_from_viewers":false,
     "hide_output_from_viewers":false,
     "report_properties":{
      
     }
    }
   }
  },
  {
   "cell_type":"code",
   "source":[
    "\n",
    "# copie de toutes les images dans un repertoire\n",
    "print(f'Nombre d individu pour la classe N : 2816')\n",
    "for classe in classes_columns:\n",
    "\n",
    "    if ~os.path.exists(PATH_DST_AUG+'\/'+classe):\n",
    "        os.makedirs(PATH_DST_AUG+'\/'+classe, exist_ok=True)\n",
    "    list_file = os.listdir(PATH_DST+'\/'+classe)\n",
    "    n = len(list_file)\n",
    "    k = round(2816\/n)\n",
    "    print(f'classe : {classe}  initial quantity image:  {n}   Ratio: {k}  => Final quantity image : {n*k}')\n",
    "\n",
    "    for file in list_file:\n",
    "        file_image = PATH_DST+'\/'+classe+'\/'+file\n",
    "        #print('file_image : ' , file_image)\n",
    "\n",
    "        image = cv2.imread(file_image, cv2.IMREAD_COLOR)\n",
    "        #image = cv2.resize(image, (224,224))\n",
    "        image = cv2.cvtColor(image, cv2.COLOR_BGR2RGB)\n",
    "        image = np.expand_dims(image,0)\n",
    "        datagen.fit(image)\n",
    "        for x, val in zip(datagen.flow(image,\n",
    "                                       save_to_dir=os.path.join(PATH_DST_AUG,classe),\n",
    "                                       save_prefix=file[:-4],\n",
    "                                       save_format='png'),\n",
    "                                        range(k-1)) :\n",
    "            x_tmp = x\n",
    "            val_tmp = val"
   ],
   "execution_count":6,
   "outputs":[
    {
     "name":"stdout",
     "text":[
      "Nombre d individu pour la classe N : 2816\n",
      "classe : N  initial quantity image:  2816   Ratio: 1  => Final quantity image : 2816\n",
      "classe : D  initial quantity image:  1524   Ratio: 2  => Final quantity image : 3048\n",
      "classe : G  initial quantity image:  242   Ratio: 12  => Final quantity image : 2904\n",
      "classe : C  initial quantity image:  252   Ratio: 11  => Final quantity image : 2772\n",
      "classe : A  initial quantity image:  241   Ratio: 12  => Final quantity image : 2892\n",
      "classe : H  initial quantity image:  110   Ratio: 26  => Final quantity image : 2860\n",
      "classe : M  initial quantity image:  244   Ratio: 12  => Final quantity image : 2928\n",
      "classe : O  initial quantity image:  648   Ratio: 4  => Final quantity image : 2592\n"
     ],
     "output_type":"stream"
    }
   ],
   "metadata":{
    "datalore":{
     "node_id":"zCJMkPyfdAHC9SCPoo0g3y",
     "type":"CODE",
     "hide_input_from_viewers":false,
     "hide_output_from_viewers":false,
     "report_properties":{
      
     }
    }
   }
  },
  {
   "cell_type":"markdown",
   "source":[
    "Copie restreinte (100 images par classe)\n",
    "Objectif :  tester differentes structure de reseau sur un jeu de donnée reduit"
   ],
   "attachments":{
    
   },
   "metadata":{
    "datalore":{
     "node_id":"WNEj4xkFZxdIwwDHsZNsfN",
     "type":"MD",
     "hide_input_from_viewers":false,
     "hide_output_from_viewers":false,
     "report_properties":{
      
     }
    }
   }
  },
  {
   "cell_type":"code",
   "source":[
    "if ~os.path.exists(PATH_DST_LIM):\n",
    "    os.makedirs(PATH_DST_LIM)"
   ],
   "execution_count":11,
   "outputs":[
    
   ],
   "metadata":{
    "datalore":{
     "node_id":"ehYioa2fnOhwn2McvkbF2L",
     "type":"CODE",
     "hide_input_from_viewers":false,
     "hide_output_from_viewers":false,
     "report_properties":{
      
     }
    }
   }
  },
  {
   "cell_type":"code",
   "source":[
    "\n",
    "# copie de 100 images dans un repertoire pour chaque classe\n",
    "for classe in classes_columns:\n",
    "    print(classe)\n",
    "\n",
    "    if ~os.path.exists(PATH_DST_LIM+'\/'+classe):\n",
    "        os.makedirs(PATH_DST_LIM+'\/'+classe)\n",
    "    list_file = os.listdir(PATH_DST+'\/'+classe)[0:99]\n",
    "    n = len(list_file)\n",
    "    k=1\n",
    "    for file in list_file:\n",
    "        file_image = PATH_DST+'\/'+classe+'\/'+file\n",
    "        print('file_image : ' , file_image)\n",
    "\n",
    "        image = cv2.imread(file_image, cv2.IMREAD_COLOR)\n",
    "        #image = cv2.resize(image, (224,224))\n",
    "        #image = cv2.cvtColor(image, cv2.COLOR_BGR2RGB)\n",
    "        cv2.imwrite(os.path.join(os.path.join(PATH_DST_LIM,classe), file), image)"
   ],
   "execution_count":12,
   "outputs":[
    {
     "name":"stdout",
     "text":[
      "N\n",
      "file_image :  \/data\/workspace_files\/Ocular_dataset\/ODIR_TrainingDataSet_Organisation\/\/N\/4689_right.jpg\n",
      "file_image :  \/data\/workspace_files\/Ocular_dataset\/ODIR_TrainingDataSet_Organisation\/\/N\/4683_left.jpg\n",
      "file_image :  \/data\/workspace_files\/Ocular_dataset\/ODIR_TrainingDataSet_Organisation\/\/N\/4672_left.jpg\n",
      "file_image :  \/data\/workspace_files\/Ocular_dataset\/ODIR_TrainingDataSet_Organisation\/\/N\/4671_right.jpg\n",
      "file_image :  \/data\/workspace_files\/Ocular_dataset\/ODIR_TrainingDataSet_Organisation\/\/N\/4660_right.jpg\n",
      "file_image :  \/data\/workspace_files\/Ocular_dataset\/ODIR_TrainingDataSet_Organisation\/\/N\/4644_right.jpg\n",
      "file_image :  \/data\/workspace_files\/Ocular_dataset\/ODIR_TrainingDataSet_Organisation\/\/N\/4642_right.jpg\n",
      "file_image :  \/data\/workspace_files\/Ocular_dataset\/ODIR_TrainingDataSet_Organisation\/\/N\/4641_left.jpg\n",
      "file_image :  \/data\/workspace_files\/Ocular_dataset\/ODIR_TrainingDataSet_Organisation\/\/N\/4639_left.jpg\n",
      "file_image :  \/data\/workspace_files\/Ocular_dataset\/ODIR_TrainingDataSet_Organisation\/\/N\/4638_right.jpg\n",
      "file_image :  \/data\/workspace_files\/Ocular_dataset\/ODIR_TrainingDataSet_Organisation\/\/N\/4637_left.jpg\n",
      "file_image :  \/data\/workspace_files\/Ocular_dataset\/ODIR_TrainingDataSet_Organisation\/\/N\/4637_right.jpg\n",
      "file_image :  \/data\/workspace_files\/Ocular_dataset\/ODIR_TrainingDataSet_Organisation\/\/N\/4626_right.jpg\n",
      "file_image :  \/data\/workspace_files\/Ocular_dataset\/ODIR_TrainingDataSet_Organisation\/\/N\/4625_left.jpg\n",
      "file_image :  \/data\/workspace_files\/Ocular_dataset\/ODIR_TrainingDataSet_Organisation\/\/N\/4621_left.jpg\n",
      "file_image :  \/data\/workspace_files\/Ocular_dataset\/ODIR_TrainingDataSet_Organisation\/\/N\/4618_left.jpg\n",
      "file_image :  \/data\/workspace_files\/Ocular_dataset\/ODIR_TrainingDataSet_Organisation\/\/N\/4614_left.jpg\n",
      "file_image :  \/data\/workspace_files\/Ocular_dataset\/ODIR_TrainingDataSet_Organisation\/\/N\/4608_left.jpg\n",
      "file_image :  \/data\/workspace_files\/Ocular_dataset\/ODIR_TrainingDataSet_Organisation\/\/N\/4602_right.jpg\n",
      "file_image :  \/data\/workspace_files\/Ocular_dataset\/ODIR_TrainingDataSet_Organisation\/\/N\/4594_left.jpg\n",
      "file_image :  \/data\/workspace_files\/Ocular_dataset\/ODIR_TrainingDataSet_Organisation\/\/N\/4590_right.jpg\n",
      "file_image :  \/data\/workspace_files\/Ocular_dataset\/ODIR_TrainingDataSet_Organisation\/\/N\/4589_right.jpg\n",
      "file_image :  \/data\/workspace_files\/Ocular_dataset\/ODIR_TrainingDataSet_Organisation\/\/N\/4586_right.jpg\n",
      "file_image :  \/data\/workspace_files\/Ocular_dataset\/ODIR_TrainingDataSet_Organisation\/\/N\/4583_right.jpg\n",
      "file_image :  \/data\/workspace_files\/Ocular_dataset\/ODIR_TrainingDataSet_Organisation\/\/N\/4578_left.jpg\n",
      "file_image :  \/data\/workspace_files\/Ocular_dataset\/ODIR_TrainingDataSet_Organisation\/\/N\/4577_left.jpg\n",
      "file_image :  \/data\/workspace_files\/Ocular_dataset\/ODIR_TrainingDataSet_Organisation\/\/N\/4576_left.jpg\n",
      "file_image :  \/data\/workspace_files\/Ocular_dataset\/ODIR_TrainingDataSet_Organisation\/\/N\/4571_right.jpg\n",
      "file_image :  \/data\/workspace_files\/Ocular_dataset\/ODIR_TrainingDataSet_Organisation\/\/N\/4571_left.jpg\n",
      "file_image :  \/data\/workspace_files\/Ocular_dataset\/ODIR_TrainingDataSet_Organisation\/\/N\/4570_left.jpg\n",
      "file_image :  \/data\/workspace_files\/Ocular_dataset\/ODIR_TrainingDataSet_Organisation\/\/N\/4563_right.jpg\n",
      "file_image :  \/data\/workspace_files\/Ocular_dataset\/ODIR_TrainingDataSet_Organisation\/\/N\/4556_right.jpg\n",
      "file_image :  \/data\/workspace_files\/Ocular_dataset\/ODIR_TrainingDataSet_Organisation\/\/N\/4548_right.jpg\n",
      "file_image :  \/data\/workspace_files\/Ocular_dataset\/ODIR_TrainingDataSet_Organisation\/\/N\/4544_right.jpg\n",
      "file_image :  \/data\/workspace_files\/Ocular_dataset\/ODIR_TrainingDataSet_Organisation\/\/N\/4543_right.jpg\n",
      "file_image :  \/data\/workspace_files\/Ocular_dataset\/ODIR_TrainingDataSet_Organisation\/\/N\/4542_left.jpg\n",
      "file_image :  \/data\/workspace_files\/Ocular_dataset\/ODIR_TrainingDataSet_Organisation\/\/N\/4535_left.jpg\n",
      "file_image :  \/data\/workspace_files\/Ocular_dataset\/ODIR_TrainingDataSet_Organisation\/\/N\/4531_left.jpg\n",
      "file_image :  \/data\/workspace_files\/Ocular_dataset\/ODIR_TrainingDataSet_Organisation\/\/N\/4528_right.jpg\n",
      "file_image :  \/data\/workspace_files\/Ocular_dataset\/ODIR_TrainingDataSet_Organisation\/\/N\/4527_right.jpg\n",
      "file_image :  \/data\/workspace_files\/Ocular_dataset\/ODIR_TrainingDataSet_Organisation\/\/N\/4523_left.jpg\n",
      "file_image :  \/data\/workspace_files\/Ocular_dataset\/ODIR_TrainingDataSet_Organisation\/\/N\/4512_left.jpg\n",
      "file_image :  \/data\/workspace_files\/Ocular_dataset\/ODIR_TrainingDataSet_Organisation\/\/N\/4506_right.jpg\n",
      "file_image :  \/data\/workspace_files\/Ocular_dataset\/ODIR_TrainingDataSet_Organisation\/\/N\/4500_left.jpg\n",
      "file_image :  \/data\/workspace_files\/Ocular_dataset\/ODIR_TrainingDataSet_Organisation\/\/N\/4496_left.jpg\n",
      "file_image :  \/data\/workspace_files\/Ocular_dataset\/ODIR_TrainingDataSet_Organisation\/\/N\/4489_left.jpg\n",
      "file_image :  \/data\/workspace_files\/Ocular_dataset\/ODIR_TrainingDataSet_Organisation\/\/N\/4487_left.jpg\n",
      "file_image :  \/data\/workspace_files\/Ocular_dataset\/ODIR_TrainingDataSet_Organisation\/\/N\/4486_left.jpg\n",
      "file_image :  \/data\/workspace_files\/Ocular_dataset\/ODIR_TrainingDataSet_Organisation\/\/N\/4476_right.jpg\n",
      "file_image :  \/data\/workspace_files\/Ocular_dataset\/ODIR_TrainingDataSet_Organisation\/\/N\/4475_left.jpg\n",
      "file_image :  \/data\/workspace_files\/Ocular_dataset\/ODIR_TrainingDataSet_Organisation\/\/N\/4469_left.jpg\n",
      "file_image :  \/data\/workspace_files\/Ocular_dataset\/ODIR_TrainingDataSet_Organisation\/\/N\/4468_left.jpg\n",
      "file_image :  \/data\/workspace_files\/Ocular_dataset\/ODIR_TrainingDataSet_Organisation\/\/N\/4465_left.jpg\n",
      "file_image :  \/data\/workspace_files\/Ocular_dataset\/ODIR_TrainingDataSet_Organisation\/\/N\/4464_left.jpg\n",
      "file_image :  \/data\/workspace_files\/Ocular_dataset\/ODIR_TrainingDataSet_Organisation\/\/N\/4459_left.jpg\n",
      "file_image :  \/data\/workspace_files\/Ocular_dataset\/ODIR_TrainingDataSet_Organisation\/\/N\/4458_right.jpg\n",
      "file_image :  \/data\/workspace_files\/Ocular_dataset\/ODIR_TrainingDataSet_Organisation\/\/N\/4455_right.jpg\n",
      "file_image :  \/data\/workspace_files\/Ocular_dataset\/ODIR_TrainingDataSet_Organisation\/\/N\/4453_right.jpg\n",
      "file_image :  \/data\/workspace_files\/Ocular_dataset\/ODIR_TrainingDataSet_Organisation\/\/N\/4452_right.jpg\n",
      "file_image :  \/data\/workspace_files\/Ocular_dataset\/ODIR_TrainingDataSet_Organisation\/\/N\/4440_left.jpg\n",
      "file_image :  \/data\/workspace_files\/Ocular_dataset\/ODIR_TrainingDataSet_Organisation\/\/N\/4438_left.jpg\n",
      "file_image :  \/data\/workspace_files\/Ocular_dataset\/ODIR_TrainingDataSet_Organisation\/\/N\/4437_right.jpg\n",
      "file_image :  \/data\/workspace_files\/Ocular_dataset\/ODIR_TrainingDataSet_Organisation\/\/N\/4428_right.jpg\n",
      "file_image :  \/data\/workspace_files\/Ocular_dataset\/ODIR_TrainingDataSet_Organisation\/\/N\/4426_right.jpg\n",
      "file_image :  \/data\/workspace_files\/Ocular_dataset\/ODIR_TrainingDataSet_Organisation\/\/N\/4422_left.jpg\n",
      "file_image :  \/data\/workspace_files\/Ocular_dataset\/ODIR_TrainingDataSet_Organisation\/\/N\/4417_left.jpg\n",
      "file_image :  \/data\/workspace_files\/Ocular_dataset\/ODIR_TrainingDataSet_Organisation\/\/N\/4415_right.jpg\n",
      "file_image :  \/data\/workspace_files\/Ocular_dataset\/ODIR_TrainingDataSet_Organisation\/\/N\/4414_left.jpg\n",
      "file_image :  \/data\/workspace_files\/Ocular_dataset\/ODIR_TrainingDataSet_Organisation\/\/N\/4411_right.jpg\n",
      "file_image :  \/data\/workspace_files\/Ocular_dataset\/ODIR_TrainingDataSet_Organisation\/\/N\/4410_left.jpg\n",
      "file_image :  \/data\/workspace_files\/Ocular_dataset\/ODIR_TrainingDataSet_Organisation\/\/N\/4409_right.jpg\n",
      "file_image :  \/data\/workspace_files\/Ocular_dataset\/ODIR_TrainingDataSet_Organisation\/\/N\/4408_right.jpg\n",
      "file_image :  \/data\/workspace_files\/Ocular_dataset\/ODIR_TrainingDataSet_Organisation\/\/N\/4395_right.jpg\n",
      "file_image :  \/data\/workspace_files\/Ocular_dataset\/ODIR_TrainingDataSet_Organisation\/\/N\/4392_left.jpg\n",
      "file_image :  \/data\/workspace_files\/Ocular_dataset\/ODIR_TrainingDataSet_Organisation\/\/N\/4389_right.jpg\n",
      "file_image :  \/data\/workspace_files\/Ocular_dataset\/ODIR_TrainingDataSet_Organisation\/\/N\/4387_left.jpg\n",
      "file_image :  \/data\/workspace_files\/Ocular_dataset\/ODIR_TrainingDataSet_Organisation\/\/N\/4377_left.jpg\n",
      "file_image :  \/data\/workspace_files\/Ocular_dataset\/ODIR_TrainingDataSet_Organisation\/\/N\/4374_left.jpg\n",
      "file_image :  \/data\/workspace_files\/Ocular_dataset\/ODIR_TrainingDataSet_Organisation\/\/N\/4373_left.jpg\n",
      "file_image :  \/data\/workspace_files\/Ocular_dataset\/ODIR_TrainingDataSet_Organisation\/\/N\/4368_left.jpg\n",
      "file_image :  \/data\/workspace_files\/Ocular_dataset\/ODIR_TrainingDataSet_Organisation\/\/N\/4362_right.jpg\n",
      "file_image :  \/data\/workspace_files\/Ocular_dataset\/ODIR_TrainingDataSet_Organisation\/\/N\/4361_left.jpg\n",
      "file_image :  \/data\/workspace_files\/Ocular_dataset\/ODIR_TrainingDataSet_Organisation\/\/N\/4360_left.jpg\n",
      "file_image :  \/data\/workspace_files\/Ocular_dataset\/ODIR_TrainingDataSet_Organisation\/\/N\/4355_left.jpg\n",
      "file_image :  \/data\/workspace_files\/Ocular_dataset\/ODIR_TrainingDataSet_Organisation\/\/N\/4354_right.jpg\n",
      "file_image :  \/data\/workspace_files\/Ocular_dataset\/ODIR_TrainingDataSet_Organisation\/\/N\/4352_left.jpg\n",
      "file_image :  \/data\/workspace_files\/Ocular_dataset\/ODIR_TrainingDataSet_Organisation\/\/N\/4351_right.jpg\n",
      "file_image :  \/data\/workspace_files\/Ocular_dataset\/ODIR_TrainingDataSet_Organisation\/\/N\/4348_left.jpg\n",
      "file_image :  \/data\/workspace_files\/Ocular_dataset\/ODIR_TrainingDataSet_Organisation\/\/N\/4343_left.jpg\n",
      "file_image :  \/data\/workspace_files\/Ocular_dataset\/ODIR_TrainingDataSet_Organisation\/\/N\/4339_right.jpg\n",
      "file_image :  \/data\/workspace_files\/Ocular_dataset\/ODIR_TrainingDataSet_Organisation\/\/N\/4338_right.jpg\n",
      "file_image :  \/data\/workspace_files\/Ocular_dataset\/ODIR_TrainingDataSet_Organisation\/\/N\/4336_left.jpg\n",
      "file_image :  \/data\/workspace_files\/Ocular_dataset\/ODIR_TrainingDataSet_Organisation\/\/N\/4335_right.jpg\n",
      "file_image :  \/data\/workspace_files\/Ocular_dataset\/ODIR_TrainingDataSet_Organisation\/\/N\/4333_left.jpg\n",
      "file_image :  \/data\/workspace_files\/Ocular_dataset\/ODIR_TrainingDataSet_Organisation\/\/N\/4330_left.jpg\n",
      "file_image :  \/data\/workspace_files\/Ocular_dataset\/ODIR_TrainingDataSet_Organisation\/\/N\/4329_left.jpg\n",
      "file_image :  \/data\/workspace_files\/Ocular_dataset\/ODIR_TrainingDataSet_Organisation\/\/N\/4328_right.jpg\n",
      "file_image :  \/data\/workspace_files\/Ocular_dataset\/ODIR_TrainingDataSet_Organisation\/\/N\/4325_left.jpg\n",
      "file_image :  \/data\/workspace_files\/Ocular_dataset\/ODIR_TrainingDataSet_Organisation\/\/N\/4322_right.jpg\n",
      "D\n",
      "file_image :  \/data\/workspace_files\/Ocular_dataset\/ODIR_TrainingDataSet_Organisation\/\/D\/4690_right.jpg\n",
      "file_image :  \/data\/workspace_files\/Ocular_dataset\/ODIR_TrainingDataSet_Organisation\/\/D\/4690_left.jpg\n",
      "file_image :  \/data\/workspace_files\/Ocular_dataset\/ODIR_TrainingDataSet_Organisation\/\/D\/4689_left.jpg\n",
      "file_image :  \/data\/workspace_files\/Ocular_dataset\/ODIR_TrainingDataSet_Organisation\/\/D\/4688_left.jpg\n",
      "file_image :  \/data\/workspace_files\/Ocular_dataset\/ODIR_TrainingDataSet_Organisation\/\/D\/4688_right.jpg\n",
      "file_image :  \/data\/workspace_files\/Ocular_dataset\/ODIR_TrainingDataSet_Organisation\/\/D\/4686_right.jpg\n",
      "file_image :  \/data\/workspace_files\/Ocular_dataset\/ODIR_TrainingDataSet_Organisation\/\/D\/4686_left.jpg\n",
      "file_image :  \/data\/workspace_files\/Ocular_dataset\/ODIR_TrainingDataSet_Organisation\/\/D\/4683_right.jpg\n",
      "file_image :  \/data\/workspace_files\/Ocular_dataset\/ODIR_TrainingDataSet_Organisation\/\/D\/4682_right.jpg\n",
      "file_image :  \/data\/workspace_files\/Ocular_dataset\/ODIR_TrainingDataSet_Organisation\/\/D\/4682_left.jpg\n",
      "file_image :  \/data\/workspace_files\/Ocular_dataset\/ODIR_TrainingDataSet_Organisation\/\/D\/4679_right.jpg\n",
      "file_image :  \/data\/workspace_files\/Ocular_dataset\/ODIR_TrainingDataSet_Organisation\/\/D\/4679_left.jpg\n",
      "file_image :  \/data\/workspace_files\/Ocular_dataset\/ODIR_TrainingDataSet_Organisation\/\/D\/4678_left.jpg\n",
      "file_image :  \/data\/workspace_files\/Ocular_dataset\/ODIR_TrainingDataSet_Organisation\/\/D\/4678_right.jpg\n",
      "file_image :  \/data\/workspace_files\/Ocular_dataset\/ODIR_TrainingDataSet_Organisation\/\/D\/4677_left.jpg\n",
      "file_image :  \/data\/workspace_files\/Ocular_dataset\/ODIR_TrainingDataSet_Organisation\/\/D\/4677_right.jpg\n",
      "file_image :  \/data\/workspace_files\/Ocular_dataset\/ODIR_TrainingDataSet_Organisation\/\/D\/4676_right.jpg\n",
      "file_image :  \/data\/workspace_files\/Ocular_dataset\/ODIR_TrainingDataSet_Organisation\/\/D\/4676_left.jpg\n",
      "file_image :  \/data\/workspace_files\/Ocular_dataset\/ODIR_TrainingDataSet_Organisation\/\/D\/4675_right.jpg\n",
      "file_image :  \/data\/workspace_files\/Ocular_dataset\/ODIR_TrainingDataSet_Organisation\/\/D\/4675_left.jpg\n",
      "file_image :  \/data\/workspace_files\/Ocular_dataset\/ODIR_TrainingDataSet_Organisation\/\/D\/4673_left.jpg\n",
      "file_image :  \/data\/workspace_files\/Ocular_dataset\/ODIR_TrainingDataSet_Organisation\/\/D\/4673_right.jpg\n",
      "file_image :  \/data\/workspace_files\/Ocular_dataset\/ODIR_TrainingDataSet_Organisation\/\/D\/4672_right.jpg\n",
      "file_image :  \/data\/workspace_files\/Ocular_dataset\/ODIR_TrainingDataSet_Organisation\/\/D\/4671_left.jpg\n",
      "file_image :  \/data\/workspace_files\/Ocular_dataset\/ODIR_TrainingDataSet_Organisation\/\/D\/4670_left.jpg\n",
      "file_image :  \/data\/workspace_files\/Ocular_dataset\/ODIR_TrainingDataSet_Organisation\/\/D\/4670_right.jpg\n",
      "file_image :  \/data\/workspace_files\/Ocular_dataset\/ODIR_TrainingDataSet_Organisation\/\/D\/4669_right.jpg\n",
      "file_image :  \/data\/workspace_files\/Ocular_dataset\/ODIR_TrainingDataSet_Organisation\/\/D\/4669_left.jpg\n",
      "file_image :  \/data\/workspace_files\/Ocular_dataset\/ODIR_TrainingDataSet_Organisation\/\/D\/4664_right.jpg\n",
      "file_image :  \/data\/workspace_files\/Ocular_dataset\/ODIR_TrainingDataSet_Organisation\/\/D\/4664_left.jpg\n",
      "file_image :  \/data\/workspace_files\/Ocular_dataset\/ODIR_TrainingDataSet_Organisation\/\/D\/4660_left.jpg\n",
      "file_image :  \/data\/workspace_files\/Ocular_dataset\/ODIR_TrainingDataSet_Organisation\/\/D\/4659_left.jpg\n",
      "file_image :  \/data\/workspace_files\/Ocular_dataset\/ODIR_TrainingDataSet_Organisation\/\/D\/4658_left.jpg\n",
      "file_image :  \/data\/workspace_files\/Ocular_dataset\/ODIR_TrainingDataSet_Organisation\/\/D\/4658_right.jpg\n",
      "file_image :  \/data\/workspace_files\/Ocular_dataset\/ODIR_TrainingDataSet_Organisation\/\/D\/4657_right.jpg\n",
      "file_image :  \/data\/workspace_files\/Ocular_dataset\/ODIR_TrainingDataSet_Organisation\/\/D\/4657_left.jpg\n",
      "file_image :  \/data\/workspace_files\/Ocular_dataset\/ODIR_TrainingDataSet_Organisation\/\/D\/4655_left.jpg\n",
      "file_image :  \/data\/workspace_files\/Ocular_dataset\/ODIR_TrainingDataSet_Organisation\/\/D\/4655_right.jpg\n",
      "file_image :  \/data\/workspace_files\/Ocular_dataset\/ODIR_TrainingDataSet_Organisation\/\/D\/4653_left.jpg\n",
      "file_image :  \/data\/workspace_files\/Ocular_dataset\/ODIR_TrainingDataSet_Organisation\/\/D\/4653_right.jpg\n",
      "file_image :  \/data\/workspace_files\/Ocular_dataset\/ODIR_TrainingDataSet_Organisation\/\/D\/4651_right.jpg\n",
      "file_image :  \/data\/workspace_files\/Ocular_dataset\/ODIR_TrainingDataSet_Organisation\/\/D\/4651_left.jpg\n",
      "file_image :  \/data\/workspace_files\/Ocular_dataset\/ODIR_TrainingDataSet_Organisation\/\/D\/4650_right.jpg\n",
      "file_image :  \/data\/workspace_files\/Ocular_dataset\/ODIR_TrainingDataSet_Organisation\/\/D\/4650_left.jpg\n",
      "file_image :  \/data\/workspace_files\/Ocular_dataset\/ODIR_TrainingDataSet_Organisation\/\/D\/4647_right.jpg\n",
      "file_image :  \/data\/workspace_files\/Ocular_dataset\/ODIR_TrainingDataSet_Organisation\/\/D\/4647_left.jpg\n",
      "file_image :  \/data\/workspace_files\/Ocular_dataset\/ODIR_TrainingDataSet_Organisation\/\/D\/4645_left.jpg\n",
      "file_image :  \/data\/workspace_files\/Ocular_dataset\/ODIR_TrainingDataSet_Organisation\/\/D\/4645_right.jpg\n",
      "file_image :  \/data\/workspace_files\/Ocular_dataset\/ODIR_TrainingDataSet_Organisation\/\/D\/4644_left.jpg\n",
      "file_image :  \/data\/workspace_files\/Ocular_dataset\/ODIR_TrainingDataSet_Organisation\/\/D\/4643_left.jpg\n",
      "file_image :  \/data\/workspace_files\/Ocular_dataset\/ODIR_TrainingDataSet_Organisation\/\/D\/4643_right.jpg\n",
      "file_image :  \/data\/workspace_files\/Ocular_dataset\/ODIR_TrainingDataSet_Organisation\/\/D\/4642_left.jpg\n",
      "file_image :  \/data\/workspace_files\/Ocular_dataset\/ODIR_TrainingDataSet_Organisation\/\/D\/4641_right.jpg\n",
      "file_image :  \/data\/workspace_files\/Ocular_dataset\/ODIR_TrainingDataSet_Organisation\/\/D\/4640_left.jpg\n",
      "file_image :  \/data\/workspace_files\/Ocular_dataset\/ODIR_TrainingDataSet_Organisation\/\/D\/4640_right.jpg\n",
      "file_image :  \/data\/workspace_files\/Ocular_dataset\/ODIR_TrainingDataSet_Organisation\/\/D\/4639_right.jpg\n",
      "file_image :  \/data\/workspace_files\/Ocular_dataset\/ODIR_TrainingDataSet_Organisation\/\/D\/4638_left.jpg\n",
      "file_image :  \/data\/workspace_files\/Ocular_dataset\/ODIR_TrainingDataSet_Organisation\/\/D\/4636_left.jpg\n",
      "file_image :  \/data\/workspace_files\/Ocular_dataset\/ODIR_TrainingDataSet_Organisation\/\/D\/4636_right.jpg\n",
      "file_image :  \/data\/workspace_files\/Ocular_dataset\/ODIR_TrainingDataSet_Organisation\/\/D\/4635_left.jpg\n",
      "file_image :  \/data\/workspace_files\/Ocular_dataset\/ODIR_TrainingDataSet_Organisation\/\/D\/4635_right.jpg\n",
      "file_image :  \/data\/workspace_files\/Ocular_dataset\/ODIR_TrainingDataSet_Organisation\/\/D\/4634_right.jpg\n",
      "file_image :  \/data\/workspace_files\/Ocular_dataset\/ODIR_TrainingDataSet_Organisation\/\/D\/4634_left.jpg\n",
      "file_image :  \/data\/workspace_files\/Ocular_dataset\/ODIR_TrainingDataSet_Organisation\/\/D\/4633_left.jpg\n",
      "file_image :  \/data\/workspace_files\/Ocular_dataset\/ODIR_TrainingDataSet_Organisation\/\/D\/4633_right.jpg\n",
      "file_image :  \/data\/workspace_files\/Ocular_dataset\/ODIR_TrainingDataSet_Organisation\/\/D\/4632_left.jpg\n",
      "file_image :  \/data\/workspace_files\/Ocular_dataset\/ODIR_TrainingDataSet_Organisation\/\/D\/4632_right.jpg\n",
      "file_image :  \/data\/workspace_files\/Ocular_dataset\/ODIR_TrainingDataSet_Organisation\/\/D\/4631_left.jpg\n",
      "file_image :  \/data\/workspace_files\/Ocular_dataset\/ODIR_TrainingDataSet_Organisation\/\/D\/4631_right.jpg\n",
      "file_image :  \/data\/workspace_files\/Ocular_dataset\/ODIR_TrainingDataSet_Organisation\/\/D\/4630_left.jpg\n",
      "file_image :  \/data\/workspace_files\/Ocular_dataset\/ODIR_TrainingDataSet_Organisation\/\/D\/4630_right.jpg\n",
      "file_image :  \/data\/workspace_files\/Ocular_dataset\/ODIR_TrainingDataSet_Organisation\/\/D\/4629_left.jpg\n",
      "file_image :  \/data\/workspace_files\/Ocular_dataset\/ODIR_TrainingDataSet_Organisation\/\/D\/4629_right.jpg\n",
      "file_image :  \/data\/workspace_files\/Ocular_dataset\/ODIR_TrainingDataSet_Organisation\/\/D\/4628_left.jpg\n",
      "file_image :  \/data\/workspace_files\/Ocular_dataset\/ODIR_TrainingDataSet_Organisation\/\/D\/4628_right.jpg\n",
      "file_image :  \/data\/workspace_files\/Ocular_dataset\/ODIR_TrainingDataSet_Organisation\/\/D\/4627_left.jpg\n",
      "file_image :  \/data\/workspace_files\/Ocular_dataset\/ODIR_TrainingDataSet_Organisation\/\/D\/4627_right.jpg\n",
      "file_image :  \/data\/workspace_files\/Ocular_dataset\/ODIR_TrainingDataSet_Organisation\/\/D\/4626_left.jpg\n",
      "file_image :  \/data\/workspace_files\/Ocular_dataset\/ODIR_TrainingDataSet_Organisation\/\/D\/4625_right.jpg\n",
      "file_image :  \/data\/workspace_files\/Ocular_dataset\/ODIR_TrainingDataSet_Organisation\/\/D\/4624_right.jpg\n",
      "file_image :  \/data\/workspace_files\/Ocular_dataset\/ODIR_TrainingDataSet_Organisation\/\/D\/4624_left.jpg\n",
      "file_image :  \/data\/workspace_files\/Ocular_dataset\/ODIR_TrainingDataSet_Organisation\/\/D\/4623_right.jpg\n",
      "file_image :  \/data\/workspace_files\/Ocular_dataset\/ODIR_TrainingDataSet_Organisation\/\/D\/4623_left.jpg\n",
      "file_image :  \/data\/workspace_files\/Ocular_dataset\/ODIR_TrainingDataSet_Organisation\/\/D\/4622_right.jpg\n",
      "file_image :  \/data\/workspace_files\/Ocular_dataset\/ODIR_TrainingDataSet_Organisation\/\/D\/4622_left.jpg\n",
      "file_image :  \/data\/workspace_files\/Ocular_dataset\/ODIR_TrainingDataSet_Organisation\/\/D\/4621_right.jpg\n",
      "file_image :  \/data\/workspace_files\/Ocular_dataset\/ODIR_TrainingDataSet_Organisation\/\/D\/4620_right.jpg\n",
      "file_image :  \/data\/workspace_files\/Ocular_dataset\/ODIR_TrainingDataSet_Organisation\/\/D\/4620_left.jpg\n",
      "file_image :  \/data\/workspace_files\/Ocular_dataset\/ODIR_TrainingDataSet_Organisation\/\/D\/4619_right.jpg\n",
      "file_image :  \/data\/workspace_files\/Ocular_dataset\/ODIR_TrainingDataSet_Organisation\/\/D\/4619_left.jpg\n",
      "file_image :  \/data\/workspace_files\/Ocular_dataset\/ODIR_TrainingDataSet_Organisation\/\/D\/4618_right.jpg\n",
      "file_image :  \/data\/workspace_files\/Ocular_dataset\/ODIR_TrainingDataSet_Organisation\/\/D\/4617_right.jpg\n",
      "file_image :  \/data\/workspace_files\/Ocular_dataset\/ODIR_TrainingDataSet_Organisation\/\/D\/4617_left.jpg\n",
      "file_image :  \/data\/workspace_files\/Ocular_dataset\/ODIR_TrainingDataSet_Organisation\/\/D\/4616_right.jpg\n",
      "file_image :  \/data\/workspace_files\/Ocular_dataset\/ODIR_TrainingDataSet_Organisation\/\/D\/4616_left.jpg\n",
      "file_image :  \/data\/workspace_files\/Ocular_dataset\/ODIR_TrainingDataSet_Organisation\/\/D\/4615_right.jpg\n",
      "file_image :  \/data\/workspace_files\/Ocular_dataset\/ODIR_TrainingDataSet_Organisation\/\/D\/4615_left.jpg\n",
      "file_image :  \/data\/workspace_files\/Ocular_dataset\/ODIR_TrainingDataSet_Organisation\/\/D\/4614_right.jpg\n",
      "file_image :  \/data\/workspace_files\/Ocular_dataset\/ODIR_TrainingDataSet_Organisation\/\/D\/4613_left.jpg\n",
      "G\n",
      "file_image :  \/data\/workspace_files\/Ocular_dataset\/ODIR_TrainingDataSet_Organisation\/\/G\/2048_right.jpg\n",
      "file_image :  \/data\/workspace_files\/Ocular_dataset\/ODIR_TrainingDataSet_Organisation\/\/G\/2030_left.jpg\n",
      "file_image :  \/data\/workspace_files\/Ocular_dataset\/ODIR_TrainingDataSet_Organisation\/\/G\/2020_left.jpg\n",
      "file_image :  \/data\/workspace_files\/Ocular_dataset\/ODIR_TrainingDataSet_Organisation\/\/G\/2006_left.jpg\n",
      "file_image :  \/data\/workspace_files\/Ocular_dataset\/ODIR_TrainingDataSet_Organisation\/\/G\/1990_right.jpg\n",
      "file_image :  \/data\/workspace_files\/Ocular_dataset\/ODIR_TrainingDataSet_Organisation\/\/G\/1986_left.jpg\n",
      "file_image :  \/data\/workspace_files\/Ocular_dataset\/ODIR_TrainingDataSet_Organisation\/\/G\/1977_left.jpg\n",
      "file_image :  \/data\/workspace_files\/Ocular_dataset\/ODIR_TrainingDataSet_Organisation\/\/G\/1977_right.jpg\n",
      "file_image :  \/data\/workspace_files\/Ocular_dataset\/ODIR_TrainingDataSet_Organisation\/\/G\/1975_left.jpg\n",
      "file_image :  \/data\/workspace_files\/Ocular_dataset\/ODIR_TrainingDataSet_Organisation\/\/G\/1971_left.jpg\n",
      "file_image :  \/data\/workspace_files\/Ocular_dataset\/ODIR_TrainingDataSet_Organisation\/\/G\/1967_left.jpg\n",
      "file_image :  \/data\/workspace_files\/Ocular_dataset\/ODIR_TrainingDataSet_Organisation\/\/G\/1967_right.jpg\n",
      "file_image :  \/data\/workspace_files\/Ocular_dataset\/ODIR_TrainingDataSet_Organisation\/\/G\/1964_left.jpg\n",
      "file_image :  \/data\/workspace_files\/Ocular_dataset\/ODIR_TrainingDataSet_Organisation\/\/G\/1963_right.jpg\n",
      "file_image :  \/data\/workspace_files\/Ocular_dataset\/ODIR_TrainingDataSet_Organisation\/\/G\/1959_left.jpg\n",
      "file_image :  \/data\/workspace_files\/Ocular_dataset\/ODIR_TrainingDataSet_Organisation\/\/G\/1959_right.jpg\n",
      "file_image :  \/data\/workspace_files\/Ocular_dataset\/ODIR_TrainingDataSet_Organisation\/\/G\/1515_left.jpg\n",
      "file_image :  \/data\/workspace_files\/Ocular_dataset\/ODIR_TrainingDataSet_Organisation\/\/G\/1514_left.jpg\n",
      "file_image :  \/data\/workspace_files\/Ocular_dataset\/ODIR_TrainingDataSet_Organisation\/\/G\/1510_right.jpg\n",
      "file_image :  \/data\/workspace_files\/Ocular_dataset\/ODIR_TrainingDataSet_Organisation\/\/G\/1507_right.jpg\n",
      "file_image :  \/data\/workspace_files\/Ocular_dataset\/ODIR_TrainingDataSet_Organisation\/\/G\/1503_right.jpg\n",
      "file_image :  \/data\/workspace_files\/Ocular_dataset\/ODIR_TrainingDataSet_Organisation\/\/G\/1498_left.jpg\n",
      "file_image :  \/data\/workspace_files\/Ocular_dataset\/ODIR_TrainingDataSet_Organisation\/\/G\/1497_right.jpg\n",
      "file_image :  \/data\/workspace_files\/Ocular_dataset\/ODIR_TrainingDataSet_Organisation\/\/G\/1497_left.jpg\n",
      "file_image :  \/data\/workspace_files\/Ocular_dataset\/ODIR_TrainingDataSet_Organisation\/\/G\/1495_right.jpg\n",
      "file_image :  \/data\/workspace_files\/Ocular_dataset\/ODIR_TrainingDataSet_Organisation\/\/G\/1495_left.jpg\n",
      "file_image :  \/data\/workspace_files\/Ocular_dataset\/ODIR_TrainingDataSet_Organisation\/\/G\/1494_left.jpg\n",
      "file_image :  \/data\/workspace_files\/Ocular_dataset\/ODIR_TrainingDataSet_Organisation\/\/G\/1493_left.jpg\n",
      "file_image :  \/data\/workspace_files\/Ocular_dataset\/ODIR_TrainingDataSet_Organisation\/\/G\/1492_right.jpg\n",
      "file_image :  \/data\/workspace_files\/Ocular_dataset\/ODIR_TrainingDataSet_Organisation\/\/G\/1492_left.jpg\n",
      "file_image :  \/data\/workspace_files\/Ocular_dataset\/ODIR_TrainingDataSet_Organisation\/\/G\/1491_left.jpg\n",
      "file_image :  \/data\/workspace_files\/Ocular_dataset\/ODIR_TrainingDataSet_Organisation\/\/G\/1489_left.jpg\n",
      "file_image :  \/data\/workspace_files\/Ocular_dataset\/ODIR_TrainingDataSet_Organisation\/\/G\/1488_left.jpg\n",
      "file_image :  \/data\/workspace_files\/Ocular_dataset\/ODIR_TrainingDataSet_Organisation\/\/G\/1487_left.jpg\n",
      "file_image :  \/data\/workspace_files\/Ocular_dataset\/ODIR_TrainingDataSet_Organisation\/\/G\/1487_right.jpg\n",
      "file_image :  \/data\/workspace_files\/Ocular_dataset\/ODIR_TrainingDataSet_Organisation\/\/G\/1486_left.jpg\n",
      "file_image :  \/data\/workspace_files\/Ocular_dataset\/ODIR_TrainingDataSet_Organisation\/\/G\/1485_right.jpg\n",
      "file_image :  \/data\/workspace_files\/Ocular_dataset\/ODIR_TrainingDataSet_Organisation\/\/G\/1480_right.jpg\n",
      "file_image :  \/data\/workspace_files\/Ocular_dataset\/ODIR_TrainingDataSet_Organisation\/\/G\/1479_left.jpg\n",
      "file_image :  \/data\/workspace_files\/Ocular_dataset\/ODIR_TrainingDataSet_Organisation\/\/G\/1478_left.jpg\n",
      "file_image :  \/data\/workspace_files\/Ocular_dataset\/ODIR_TrainingDataSet_Organisation\/\/G\/1477_right.jpg\n",
      "file_image :  \/data\/workspace_files\/Ocular_dataset\/ODIR_TrainingDataSet_Organisation\/\/G\/1477_left.jpg\n",
      "file_image :  \/data\/workspace_files\/Ocular_dataset\/ODIR_TrainingDataSet_Organisation\/\/G\/1476_right.jpg\n",
      "file_image :  \/data\/workspace_files\/Ocular_dataset\/ODIR_TrainingDataSet_Organisation\/\/G\/1473_left.jpg\n",
      "file_image :  \/data\/workspace_files\/Ocular_dataset\/ODIR_TrainingDataSet_Organisation\/\/G\/1473_right.jpg\n",
      "file_image :  \/data\/workspace_files\/Ocular_dataset\/ODIR_TrainingDataSet_Organisation\/\/G\/1471_left.jpg\n",
      "file_image :  \/data\/workspace_files\/Ocular_dataset\/ODIR_TrainingDataSet_Organisation\/\/G\/1470_right.jpg\n",
      "file_image :  \/data\/workspace_files\/Ocular_dataset\/ODIR_TrainingDataSet_Organisation\/\/G\/1470_left.jpg\n",
      "file_image :  \/data\/workspace_files\/Ocular_dataset\/ODIR_TrainingDataSet_Organisation\/\/G\/1469_right.jpg\n",
      "file_image :  \/data\/workspace_files\/Ocular_dataset\/ODIR_TrainingDataSet_Organisation\/\/G\/1469_left.jpg\n",
      "file_image :  \/data\/workspace_files\/Ocular_dataset\/ODIR_TrainingDataSet_Organisation\/\/G\/1465_right.jpg\n",
      "file_image :  \/data\/workspace_files\/Ocular_dataset\/ODIR_TrainingDataSet_Organisation\/\/G\/1462_left.jpg\n",
      "file_image :  \/data\/workspace_files\/Ocular_dataset\/ODIR_TrainingDataSet_Organisation\/\/G\/1453_right.jpg\n",
      "file_image :  \/data\/workspace_files\/Ocular_dataset\/ODIR_TrainingDataSet_Organisation\/\/G\/1450_left.jpg\n",
      "file_image :  \/data\/workspace_files\/Ocular_dataset\/ODIR_TrainingDataSet_Organisation\/\/G\/1447_left.jpg\n",
      "file_image :  \/data\/workspace_files\/Ocular_dataset\/ODIR_TrainingDataSet_Organisation\/\/G\/1443_left.jpg\n",
      "file_image :  \/data\/workspace_files\/Ocular_dataset\/ODIR_TrainingDataSet_Organisation\/\/G\/1443_right.jpg\n",
      "file_image :  \/data\/workspace_files\/Ocular_dataset\/ODIR_TrainingDataSet_Organisation\/\/G\/1441_left.jpg\n",
      "file_image :  \/data\/workspace_files\/Ocular_dataset\/ODIR_TrainingDataSet_Organisation\/\/G\/1440_left.jpg\n",
      "file_image :  \/data\/workspace_files\/Ocular_dataset\/ODIR_TrainingDataSet_Organisation\/\/G\/1440_right.jpg\n",
      "file_image :  \/data\/workspace_files\/Ocular_dataset\/ODIR_TrainingDataSet_Organisation\/\/G\/1439_left.jpg\n",
      "file_image :  \/data\/workspace_files\/Ocular_dataset\/ODIR_TrainingDataSet_Organisation\/\/G\/1436_left.jpg\n",
      "file_image :  \/data\/workspace_files\/Ocular_dataset\/ODIR_TrainingDataSet_Organisation\/\/G\/1436_right.jpg\n",
      "file_image :  \/data\/workspace_files\/Ocular_dataset\/ODIR_TrainingDataSet_Organisation\/\/G\/1433_left.jpg\n",
      "file_image :  \/data\/workspace_files\/Ocular_dataset\/ODIR_TrainingDataSet_Organisation\/\/G\/1433_right.jpg\n",
      "file_image :  \/data\/workspace_files\/Ocular_dataset\/ODIR_TrainingDataSet_Organisation\/\/G\/1431_left.jpg\n",
      "file_image :  \/data\/workspace_files\/Ocular_dataset\/ODIR_TrainingDataSet_Organisation\/\/G\/1431_right.jpg\n",
      "file_image :  \/data\/workspace_files\/Ocular_dataset\/ODIR_TrainingDataSet_Organisation\/\/G\/1429_left.jpg\n",
      "file_image :  \/data\/workspace_files\/Ocular_dataset\/ODIR_TrainingDataSet_Organisation\/\/G\/1427_right.jpg\n",
      "file_image :  \/data\/workspace_files\/Ocular_dataset\/ODIR_TrainingDataSet_Organisation\/\/G\/1425_right.jpg\n",
      "file_image :  \/data\/workspace_files\/Ocular_dataset\/ODIR_TrainingDataSet_Organisation\/\/G\/1424_left.jpg\n",
      "file_image :  \/data\/workspace_files\/Ocular_dataset\/ODIR_TrainingDataSet_Organisation\/\/G\/1423_left.jpg\n",
      "file_image :  \/data\/workspace_files\/Ocular_dataset\/ODIR_TrainingDataSet_Organisation\/\/G\/1422_left.jpg\n",
      "file_image :  \/data\/workspace_files\/Ocular_dataset\/ODIR_TrainingDataSet_Organisation\/\/G\/1421_left.jpg\n",
      "file_image :  \/data\/workspace_files\/Ocular_dataset\/ODIR_TrainingDataSet_Organisation\/\/G\/1420_right.jpg\n",
      "file_image :  \/data\/workspace_files\/Ocular_dataset\/ODIR_TrainingDataSet_Organisation\/\/G\/1418_left.jpg\n",
      "file_image :  \/data\/workspace_files\/Ocular_dataset\/ODIR_TrainingDataSet_Organisation\/\/G\/1417_right.jpg\n",
      "file_image :  \/data\/workspace_files\/Ocular_dataset\/ODIR_TrainingDataSet_Organisation\/\/G\/1416_right.jpg\n",
      "file_image :  \/data\/workspace_files\/Ocular_dataset\/ODIR_TrainingDataSet_Organisation\/\/G\/1414_left.jpg\n",
      "file_image :  \/data\/workspace_files\/Ocular_dataset\/ODIR_TrainingDataSet_Organisation\/\/G\/1413_right.jpg\n",
      "file_image :  \/data\/workspace_files\/Ocular_dataset\/ODIR_TrainingDataSet_Organisation\/\/G\/1412_right.jpg\n",
      "file_image :  \/data\/workspace_files\/Ocular_dataset\/ODIR_TrainingDataSet_Organisation\/\/G\/1411_left.jpg\n",
      "file_image :  \/data\/workspace_files\/Ocular_dataset\/ODIR_TrainingDataSet_Organisation\/\/G\/1411_right.jpg\n",
      "file_image :  \/data\/workspace_files\/Ocular_dataset\/ODIR_TrainingDataSet_Organisation\/\/G\/1410_left.jpg\n",
      "file_image :  \/data\/workspace_files\/Ocular_dataset\/ODIR_TrainingDataSet_Organisation\/\/G\/1408_right.jpg\n",
      "file_image :  \/data\/workspace_files\/Ocular_dataset\/ODIR_TrainingDataSet_Organisation\/\/G\/1405_left.jpg\n",
      "file_image :  \/data\/workspace_files\/Ocular_dataset\/ODIR_TrainingDataSet_Organisation\/\/G\/1404_left.jpg\n",
      "file_image :  \/data\/workspace_files\/Ocular_dataset\/ODIR_TrainingDataSet_Organisation\/\/G\/1397_left.jpg\n",
      "file_image :  \/data\/workspace_files\/Ocular_dataset\/ODIR_TrainingDataSet_Organisation\/\/G\/1396_left.jpg\n",
      "file_image :  \/data\/workspace_files\/Ocular_dataset\/ODIR_TrainingDataSet_Organisation\/\/G\/1393_right.jpg\n",
      "file_image :  \/data\/workspace_files\/Ocular_dataset\/ODIR_TrainingDataSet_Organisation\/\/G\/1392_left.jpg\n",
      "file_image :  \/data\/workspace_files\/Ocular_dataset\/ODIR_TrainingDataSet_Organisation\/\/G\/1392_right.jpg\n",
      "file_image :  \/data\/workspace_files\/Ocular_dataset\/ODIR_TrainingDataSet_Organisation\/\/G\/1389_right.jpg\n",
      "file_image :  \/data\/workspace_files\/Ocular_dataset\/ODIR_TrainingDataSet_Organisation\/\/G\/1389_left.jpg\n",
      "file_image :  \/data\/workspace_files\/Ocular_dataset\/ODIR_TrainingDataSet_Organisation\/\/G\/1388_right.jpg\n",
      "file_image :  \/data\/workspace_files\/Ocular_dataset\/ODIR_TrainingDataSet_Organisation\/\/G\/1386_left.jpg\n",
      "file_image :  \/data\/workspace_files\/Ocular_dataset\/ODIR_TrainingDataSet_Organisation\/\/G\/1386_right.jpg\n",
      "file_image :  \/data\/workspace_files\/Ocular_dataset\/ODIR_TrainingDataSet_Organisation\/\/G\/1383_left.jpg\n",
      "file_image :  \/data\/workspace_files\/Ocular_dataset\/ODIR_TrainingDataSet_Organisation\/\/G\/1378_right.jpg\n",
      "C\n",
      "file_image :  \/data\/workspace_files\/Ocular_dataset\/ODIR_TrainingDataSet_Organisation\/\/C\/2282_right.jpg\n",
      "file_image :  \/data\/workspace_files\/Ocular_dataset\/ODIR_TrainingDataSet_Organisation\/\/C\/2262_left.jpg\n",
      "file_image :  \/data\/workspace_files\/Ocular_dataset\/ODIR_TrainingDataSet_Organisation\/\/C\/2247_left.jpg\n",
      "file_image :  \/data\/workspace_files\/Ocular_dataset\/ODIR_TrainingDataSet_Organisation\/\/C\/2246_right.jpg\n",
      "file_image :  \/data\/workspace_files\/Ocular_dataset\/ODIR_TrainingDataSet_Organisation\/\/C\/2246_left.jpg\n",
      "file_image :  \/data\/workspace_files\/Ocular_dataset\/ODIR_TrainingDataSet_Organisation\/\/C\/2243_right.jpg\n",
      "file_image :  \/data\/workspace_files\/Ocular_dataset\/ODIR_TrainingDataSet_Organisation\/\/C\/2243_left.jpg\n",
      "file_image :  \/data\/workspace_files\/Ocular_dataset\/ODIR_TrainingDataSet_Organisation\/\/C\/2242_left.jpg\n",
      "file_image :  \/data\/workspace_files\/Ocular_dataset\/ODIR_TrainingDataSet_Organisation\/\/C\/2242_right.jpg\n",
      "file_image :  \/data\/workspace_files\/Ocular_dataset\/ODIR_TrainingDataSet_Organisation\/\/C\/2240_left.jpg\n",
      "file_image :  \/data\/workspace_files\/Ocular_dataset\/ODIR_TrainingDataSet_Organisation\/\/C\/2240_right.jpg\n",
      "file_image :  \/data\/workspace_files\/Ocular_dataset\/ODIR_TrainingDataSet_Organisation\/\/C\/2239_left.jpg\n",
      "file_image :  \/data\/workspace_files\/Ocular_dataset\/ODIR_TrainingDataSet_Organisation\/\/C\/2239_right.jpg\n",
      "file_image :  \/data\/workspace_files\/Ocular_dataset\/ODIR_TrainingDataSet_Organisation\/\/C\/2237_right.jpg\n",
      "file_image :  \/data\/workspace_files\/Ocular_dataset\/ODIR_TrainingDataSet_Organisation\/\/C\/2236_right.jpg\n",
      "file_image :  \/data\/workspace_files\/Ocular_dataset\/ODIR_TrainingDataSet_Organisation\/\/C\/2236_left.jpg\n",
      "file_image :  \/data\/workspace_files\/Ocular_dataset\/ODIR_TrainingDataSet_Organisation\/\/C\/2235_left.jpg\n",
      "file_image :  \/data\/workspace_files\/Ocular_dataset\/ODIR_TrainingDataSet_Organisation\/\/C\/2234_left.jpg\n",
      "file_image :  \/data\/workspace_files\/Ocular_dataset\/ODIR_TrainingDataSet_Organisation\/\/C\/2233_left.jpg\n",
      "file_image :  \/data\/workspace_files\/Ocular_dataset\/ODIR_TrainingDataSet_Organisation\/\/C\/2233_right.jpg\n",
      "file_image :  \/data\/workspace_files\/Ocular_dataset\/ODIR_TrainingDataSet_Organisation\/\/C\/2232_right.jpg\n",
      "file_image :  \/data\/workspace_files\/Ocular_dataset\/ODIR_TrainingDataSet_Organisation\/\/C\/2232_left.jpg\n",
      "file_image :  \/data\/workspace_files\/Ocular_dataset\/ODIR_TrainingDataSet_Organisation\/\/C\/2228_right.jpg\n",
      "file_image :  \/data\/workspace_files\/Ocular_dataset\/ODIR_TrainingDataSet_Organisation\/\/C\/2227_left.jpg\n",
      "file_image :  \/data\/workspace_files\/Ocular_dataset\/ODIR_TrainingDataSet_Organisation\/\/C\/2227_right.jpg\n",
      "file_image :  \/data\/workspace_files\/Ocular_dataset\/ODIR_TrainingDataSet_Organisation\/\/C\/2226_left.jpg\n",
      "file_image :  \/data\/workspace_files\/Ocular_dataset\/ODIR_TrainingDataSet_Organisation\/\/C\/2225_left.jpg\n",
      "file_image :  \/data\/workspace_files\/Ocular_dataset\/ODIR_TrainingDataSet_Organisation\/\/C\/2225_right.jpg\n",
      "file_image :  \/data\/workspace_files\/Ocular_dataset\/ODIR_TrainingDataSet_Organisation\/\/C\/2223_left.jpg\n",
      "file_image :  \/data\/workspace_files\/Ocular_dataset\/ODIR_TrainingDataSet_Organisation\/\/C\/2223_right.jpg\n",
      "file_image :  \/data\/workspace_files\/Ocular_dataset\/ODIR_TrainingDataSet_Organisation\/\/C\/2221_left.jpg\n",
      "file_image :  \/data\/workspace_files\/Ocular_dataset\/ODIR_TrainingDataSet_Organisation\/\/C\/2221_right.jpg\n",
      "file_image :  \/data\/workspace_files\/Ocular_dataset\/ODIR_TrainingDataSet_Organisation\/\/C\/2220_right.jpg\n",
      "file_image :  \/data\/workspace_files\/Ocular_dataset\/ODIR_TrainingDataSet_Organisation\/\/C\/2219_left.jpg\n",
      "file_image :  \/data\/workspace_files\/Ocular_dataset\/ODIR_TrainingDataSet_Organisation\/\/C\/2219_right.jpg\n",
      "file_image :  \/data\/workspace_files\/Ocular_dataset\/ODIR_TrainingDataSet_Organisation\/\/C\/2218_right.jpg\n",
      "file_image :  \/data\/workspace_files\/Ocular_dataset\/ODIR_TrainingDataSet_Organisation\/\/C\/2217_left.jpg\n",
      "file_image :  \/data\/workspace_files\/Ocular_dataset\/ODIR_TrainingDataSet_Organisation\/\/C\/2217_right.jpg\n",
      "file_image :  \/data\/workspace_files\/Ocular_dataset\/ODIR_TrainingDataSet_Organisation\/\/C\/2216_right.jpg\n",
      "file_image :  \/data\/workspace_files\/Ocular_dataset\/ODIR_TrainingDataSet_Organisation\/\/C\/2216_left.jpg\n",
      "file_image :  \/data\/workspace_files\/Ocular_dataset\/ODIR_TrainingDataSet_Organisation\/\/C\/2215_left.jpg\n",
      "file_image :  \/data\/workspace_files\/Ocular_dataset\/ODIR_TrainingDataSet_Organisation\/\/C\/2213_right.jpg\n",
      "file_image :  \/data\/workspace_files\/Ocular_dataset\/ODIR_TrainingDataSet_Organisation\/\/C\/2212_right.jpg\n",
      "file_image :  \/data\/workspace_files\/Ocular_dataset\/ODIR_TrainingDataSet_Organisation\/\/C\/2212_left.jpg\n",
      "file_image :  \/data\/workspace_files\/Ocular_dataset\/ODIR_TrainingDataSet_Organisation\/\/C\/2211_right.jpg\n",
      "file_image :  \/data\/workspace_files\/Ocular_dataset\/ODIR_TrainingDataSet_Organisation\/\/C\/2211_left.jpg\n",
      "file_image :  \/data\/workspace_files\/Ocular_dataset\/ODIR_TrainingDataSet_Organisation\/\/C\/2210_left.jpg\n",
      "file_image :  \/data\/workspace_files\/Ocular_dataset\/ODIR_TrainingDataSet_Organisation\/\/C\/2210_right.jpg\n",
      "file_image :  \/data\/workspace_files\/Ocular_dataset\/ODIR_TrainingDataSet_Organisation\/\/C\/2209_left.jpg\n",
      "file_image :  \/data\/workspace_files\/Ocular_dataset\/ODIR_TrainingDataSet_Organisation\/\/C\/2209_right.jpg\n",
      "file_image :  \/data\/workspace_files\/Ocular_dataset\/ODIR_TrainingDataSet_Organisation\/\/C\/2208_right.jpg\n",
      "file_image :  \/data\/workspace_files\/Ocular_dataset\/ODIR_TrainingDataSet_Organisation\/\/C\/2207_right.jpg\n",
      "file_image :  \/data\/workspace_files\/Ocular_dataset\/ODIR_TrainingDataSet_Organisation\/\/C\/2207_left.jpg\n",
      "file_image :  \/data\/workspace_files\/Ocular_dataset\/ODIR_TrainingDataSet_Organisation\/\/C\/2206_right.jpg\n",
      "file_image :  \/data\/workspace_files\/Ocular_dataset\/ODIR_TrainingDataSet_Organisation\/\/C\/2206_left.jpg\n",
      "file_image :  \/data\/workspace_files\/Ocular_dataset\/ODIR_TrainingDataSet_Organisation\/\/C\/2205_right.jpg\n",
      "file_image :  \/data\/workspace_files\/Ocular_dataset\/ODIR_TrainingDataSet_Organisation\/\/C\/2204_left.jpg\n",
      "file_image :  \/data\/workspace_files\/Ocular_dataset\/ODIR_TrainingDataSet_Organisation\/\/C\/2203_right.jpg\n",
      "file_image :  \/data\/workspace_files\/Ocular_dataset\/ODIR_TrainingDataSet_Organisation\/\/C\/2203_left.jpg\n",
      "file_image :  \/data\/workspace_files\/Ocular_dataset\/ODIR_TrainingDataSet_Organisation\/\/C\/2201_right.jpg\n",
      "file_image :  \/data\/workspace_files\/Ocular_dataset\/ODIR_TrainingDataSet_Organisation\/\/C\/2200_left.jpg\n",
      "file_image :  \/data\/workspace_files\/Ocular_dataset\/ODIR_TrainingDataSet_Organisation\/\/C\/2199_left.jpg\n",
      "file_image :  \/data\/workspace_files\/Ocular_dataset\/ODIR_TrainingDataSet_Organisation\/\/C\/2198_left.jpg\n",
      "file_image :  \/data\/workspace_files\/Ocular_dataset\/ODIR_TrainingDataSet_Organisation\/\/C\/2198_right.jpg\n",
      "file_image :  \/data\/workspace_files\/Ocular_dataset\/ODIR_TrainingDataSet_Organisation\/\/C\/2197_right.jpg\n",
      "file_image :  \/data\/workspace_files\/Ocular_dataset\/ODIR_TrainingDataSet_Organisation\/\/C\/2196_right.jpg\n",
      "file_image :  \/data\/workspace_files\/Ocular_dataset\/ODIR_TrainingDataSet_Organisation\/\/C\/2195_right.jpg\n",
      "file_image :  \/data\/workspace_files\/Ocular_dataset\/ODIR_TrainingDataSet_Organisation\/\/C\/2195_left.jpg\n",
      "file_image :  \/data\/workspace_files\/Ocular_dataset\/ODIR_TrainingDataSet_Organisation\/\/C\/2194_right.jpg\n",
      "file_image :  \/data\/workspace_files\/Ocular_dataset\/ODIR_TrainingDataSet_Organisation\/\/C\/2194_left.jpg\n",
      "file_image :  \/data\/workspace_files\/Ocular_dataset\/ODIR_TrainingDataSet_Organisation\/\/C\/2193_right.jpg\n",
      "file_image :  \/data\/workspace_files\/Ocular_dataset\/ODIR_TrainingDataSet_Organisation\/\/C\/2192_left.jpg\n",
      "file_image :  \/data\/workspace_files\/Ocular_dataset\/ODIR_TrainingDataSet_Organisation\/\/C\/2192_right.jpg\n",
      "file_image :  \/data\/workspace_files\/Ocular_dataset\/ODIR_TrainingDataSet_Organisation\/\/C\/2191_right.jpg\n",
      "file_image :  \/data\/workspace_files\/Ocular_dataset\/ODIR_TrainingDataSet_Organisation\/\/C\/2190_right.jpg\n",
      "file_image :  \/data\/workspace_files\/Ocular_dataset\/ODIR_TrainingDataSet_Organisation\/\/C\/2189_left.jpg\n",
      "file_image :  \/data\/workspace_files\/Ocular_dataset\/ODIR_TrainingDataSet_Organisation\/\/C\/2189_right.jpg\n",
      "file_image :  \/data\/workspace_files\/Ocular_dataset\/ODIR_TrainingDataSet_Organisation\/\/C\/2187_right.jpg\n",
      "file_image :  \/data\/workspace_files\/Ocular_dataset\/ODIR_TrainingDataSet_Organisation\/\/C\/2185_left.jpg\n",
      "file_image :  \/data\/workspace_files\/Ocular_dataset\/ODIR_TrainingDataSet_Organisation\/\/C\/2184_right.jpg\n",
      "file_image :  \/data\/workspace_files\/Ocular_dataset\/ODIR_TrainingDataSet_Organisation\/\/C\/2184_left.jpg\n",
      "file_image :  \/data\/workspace_files\/Ocular_dataset\/ODIR_TrainingDataSet_Organisation\/\/C\/2183_left.jpg\n",
      "file_image :  \/data\/workspace_files\/Ocular_dataset\/ODIR_TrainingDataSet_Organisation\/\/C\/2183_right.jpg\n",
      "file_image :  \/data\/workspace_files\/Ocular_dataset\/ODIR_TrainingDataSet_Organisation\/\/C\/2178_left.jpg\n",
      "file_image :  \/data\/workspace_files\/Ocular_dataset\/ODIR_TrainingDataSet_Organisation\/\/C\/2176_right.jpg\n",
      "file_image :  \/data\/workspace_files\/Ocular_dataset\/ODIR_TrainingDataSet_Organisation\/\/C\/2173_right.jpg\n",
      "file_image :  \/data\/workspace_files\/Ocular_dataset\/ODIR_TrainingDataSet_Organisation\/\/C\/2172_left.jpg\n",
      "file_image :  \/data\/workspace_files\/Ocular_dataset\/ODIR_TrainingDataSet_Organisation\/\/C\/2171_left.jpg\n",
      "file_image :  \/data\/workspace_files\/Ocular_dataset\/ODIR_TrainingDataSet_Organisation\/\/C\/2170_left.jpg\n",
      "file_image :  \/data\/workspace_files\/Ocular_dataset\/ODIR_TrainingDataSet_Organisation\/\/C\/2170_right.jpg\n",
      "file_image :  \/data\/workspace_files\/Ocular_dataset\/ODIR_TrainingDataSet_Organisation\/\/C\/2169_left.jpg\n",
      "file_image :  \/data\/workspace_files\/Ocular_dataset\/ODIR_TrainingDataSet_Organisation\/\/C\/2169_right.jpg\n",
      "file_image :  \/data\/workspace_files\/Ocular_dataset\/ODIR_TrainingDataSet_Organisation\/\/C\/2168_left.jpg\n",
      "file_image :  \/data\/workspace_files\/Ocular_dataset\/ODIR_TrainingDataSet_Organisation\/\/C\/2167_left.jpg\n",
      "file_image :  \/data\/workspace_files\/Ocular_dataset\/ODIR_TrainingDataSet_Organisation\/\/C\/2167_right.jpg\n",
      "file_image :  \/data\/workspace_files\/Ocular_dataset\/ODIR_TrainingDataSet_Organisation\/\/C\/2166_left.jpg\n",
      "file_image :  \/data\/workspace_files\/Ocular_dataset\/ODIR_TrainingDataSet_Organisation\/\/C\/2165_right.jpg\n",
      "file_image :  \/data\/workspace_files\/Ocular_dataset\/ODIR_TrainingDataSet_Organisation\/\/C\/2164_right.jpg\n",
      "file_image :  \/data\/workspace_files\/Ocular_dataset\/ODIR_TrainingDataSet_Organisation\/\/C\/2163_left.jpg\n",
      "A\n",
      "file_image :  \/data\/workspace_files\/Ocular_dataset\/ODIR_TrainingDataSet_Organisation\/\/A\/2065_left.jpg\n",
      "file_image :  \/data\/workspace_files\/Ocular_dataset\/ODIR_TrainingDataSet_Organisation\/\/A\/2053_left.jpg\n",
      "file_image :  \/data\/workspace_files\/Ocular_dataset\/ODIR_TrainingDataSet_Organisation\/\/A\/2034_left.jpg\n",
      "file_image :  \/data\/workspace_files\/Ocular_dataset\/ODIR_TrainingDataSet_Organisation\/\/A\/1927_left.jpg\n",
      "file_image :  \/data\/workspace_files\/Ocular_dataset\/ODIR_TrainingDataSet_Organisation\/\/A\/1919_right.jpg\n",
      "file_image :  \/data\/workspace_files\/Ocular_dataset\/ODIR_TrainingDataSet_Organisation\/\/A\/1893_left.jpg\n",
      "file_image :  \/data\/workspace_files\/Ocular_dataset\/ODIR_TrainingDataSet_Organisation\/\/A\/1893_right.jpg\n",
      "file_image :  \/data\/workspace_files\/Ocular_dataset\/ODIR_TrainingDataSet_Organisation\/\/A\/1892_left.jpg\n",
      "file_image :  \/data\/workspace_files\/Ocular_dataset\/ODIR_TrainingDataSet_Organisation\/\/A\/1892_right.jpg\n",
      "file_image :  \/data\/workspace_files\/Ocular_dataset\/ODIR_TrainingDataSet_Organisation\/\/A\/1891_right.jpg\n",
      "file_image :  \/data\/workspace_files\/Ocular_dataset\/ODIR_TrainingDataSet_Organisation\/\/A\/1890_left.jpg\n",
      "file_image :  \/data\/workspace_files\/Ocular_dataset\/ODIR_TrainingDataSet_Organisation\/\/A\/1889_left.jpg\n",
      "file_image :  \/data\/workspace_files\/Ocular_dataset\/ODIR_TrainingDataSet_Organisation\/\/A\/1889_right.jpg\n",
      "file_image :  \/data\/workspace_files\/Ocular_dataset\/ODIR_TrainingDataSet_Organisation\/\/A\/1886_right.jpg\n",
      "file_image :  \/data\/workspace_files\/Ocular_dataset\/ODIR_TrainingDataSet_Organisation\/\/A\/1886_left.jpg\n",
      "file_image :  \/data\/workspace_files\/Ocular_dataset\/ODIR_TrainingDataSet_Organisation\/\/A\/1885_left.jpg\n",
      "file_image :  \/data\/workspace_files\/Ocular_dataset\/ODIR_TrainingDataSet_Organisation\/\/A\/1885_right.jpg\n",
      "file_image :  \/data\/workspace_files\/Ocular_dataset\/ODIR_TrainingDataSet_Organisation\/\/A\/1884_right.jpg\n",
      "file_image :  \/data\/workspace_files\/Ocular_dataset\/ODIR_TrainingDataSet_Organisation\/\/A\/1880_left.jpg\n",
      "file_image :  \/data\/workspace_files\/Ocular_dataset\/ODIR_TrainingDataSet_Organisation\/\/A\/1880_right.jpg\n",
      "file_image :  \/data\/workspace_files\/Ocular_dataset\/ODIR_TrainingDataSet_Organisation\/\/A\/1879_left.jpg\n",
      "file_image :  \/data\/workspace_files\/Ocular_dataset\/ODIR_TrainingDataSet_Organisation\/\/A\/1879_right.jpg\n",
      "file_image :  \/data\/workspace_files\/Ocular_dataset\/ODIR_TrainingDataSet_Organisation\/\/A\/1878_right.jpg\n",
      "file_image :  \/data\/workspace_files\/Ocular_dataset\/ODIR_TrainingDataSet_Organisation\/\/A\/1878_left.jpg\n",
      "file_image :  \/data\/workspace_files\/Ocular_dataset\/ODIR_TrainingDataSet_Organisation\/\/A\/1877_right.jpg\n",
      "file_image :  \/data\/workspace_files\/Ocular_dataset\/ODIR_TrainingDataSet_Organisation\/\/A\/1877_left.jpg\n",
      "file_image :  \/data\/workspace_files\/Ocular_dataset\/ODIR_TrainingDataSet_Organisation\/\/A\/1876_right.jpg\n",
      "file_image :  \/data\/workspace_files\/Ocular_dataset\/ODIR_TrainingDataSet_Organisation\/\/A\/1874_right.jpg\n",
      "file_image :  \/data\/workspace_files\/Ocular_dataset\/ODIR_TrainingDataSet_Organisation\/\/A\/1874_left.jpg\n",
      "file_image :  \/data\/workspace_files\/Ocular_dataset\/ODIR_TrainingDataSet_Organisation\/\/A\/1873_right.jpg\n",
      "file_image :  \/data\/workspace_files\/Ocular_dataset\/ODIR_TrainingDataSet_Organisation\/\/A\/1872_left.jpg\n",
      "file_image :  \/data\/workspace_files\/Ocular_dataset\/ODIR_TrainingDataSet_Organisation\/\/A\/1872_right.jpg\n",
      "file_image :  \/data\/workspace_files\/Ocular_dataset\/ODIR_TrainingDataSet_Organisation\/\/A\/1869_right.jpg\n",
      "file_image :  \/data\/workspace_files\/Ocular_dataset\/ODIR_TrainingDataSet_Organisation\/\/A\/1869_left.jpg\n",
      "file_image :  \/data\/workspace_files\/Ocular_dataset\/ODIR_TrainingDataSet_Organisation\/\/A\/1868_right.jpg\n",
      "file_image :  \/data\/workspace_files\/Ocular_dataset\/ODIR_TrainingDataSet_Organisation\/\/A\/1862_left.jpg\n",
      "file_image :  \/data\/workspace_files\/Ocular_dataset\/ODIR_TrainingDataSet_Organisation\/\/A\/1862_right.jpg\n",
      "file_image :  \/data\/workspace_files\/Ocular_dataset\/ODIR_TrainingDataSet_Organisation\/\/A\/1859_right.jpg\n",
      "file_image :  \/data\/workspace_files\/Ocular_dataset\/ODIR_TrainingDataSet_Organisation\/\/A\/1859_left.jpg\n",
      "file_image :  \/data\/workspace_files\/Ocular_dataset\/ODIR_TrainingDataSet_Organisation\/\/A\/1857_right.jpg\n",
      "file_image :  \/data\/workspace_files\/Ocular_dataset\/ODIR_TrainingDataSet_Organisation\/\/A\/1857_left.jpg\n",
      "file_image :  \/data\/workspace_files\/Ocular_dataset\/ODIR_TrainingDataSet_Organisation\/\/A\/1856_right.jpg\n",
      "file_image :  \/data\/workspace_files\/Ocular_dataset\/ODIR_TrainingDataSet_Organisation\/\/A\/1856_left.jpg\n",
      "file_image :  \/data\/workspace_files\/Ocular_dataset\/ODIR_TrainingDataSet_Organisation\/\/A\/1854_right.jpg\n",
      "file_image :  \/data\/workspace_files\/Ocular_dataset\/ODIR_TrainingDataSet_Organisation\/\/A\/1854_left.jpg\n",
      "file_image :  \/data\/workspace_files\/Ocular_dataset\/ODIR_TrainingDataSet_Organisation\/\/A\/1853_right.jpg\n",
      "file_image :  \/data\/workspace_files\/Ocular_dataset\/ODIR_TrainingDataSet_Organisation\/\/A\/1850_left.jpg\n",
      "file_image :  \/data\/workspace_files\/Ocular_dataset\/ODIR_TrainingDataSet_Organisation\/\/A\/1850_right.jpg\n",
      "file_image :  \/data\/workspace_files\/Ocular_dataset\/ODIR_TrainingDataSet_Organisation\/\/A\/1847_right.jpg\n",
      "file_image :  \/data\/workspace_files\/Ocular_dataset\/ODIR_TrainingDataSet_Organisation\/\/A\/1847_left.jpg\n",
      "file_image :  \/data\/workspace_files\/Ocular_dataset\/ODIR_TrainingDataSet_Organisation\/\/A\/1846_left.jpg\n",
      "file_image :  \/data\/workspace_files\/Ocular_dataset\/ODIR_TrainingDataSet_Organisation\/\/A\/1846_right.jpg\n",
      "file_image :  \/data\/workspace_files\/Ocular_dataset\/ODIR_TrainingDataSet_Organisation\/\/A\/1845_left.jpg\n",
      "file_image :  \/data\/workspace_files\/Ocular_dataset\/ODIR_TrainingDataSet_Organisation\/\/A\/1845_right.jpg\n",
      "file_image :  \/data\/workspace_files\/Ocular_dataset\/ODIR_TrainingDataSet_Organisation\/\/A\/1844_right.jpg\n",
      "file_image :  \/data\/workspace_files\/Ocular_dataset\/ODIR_TrainingDataSet_Organisation\/\/A\/1844_left.jpg\n",
      "file_image :  \/data\/workspace_files\/Ocular_dataset\/ODIR_TrainingDataSet_Organisation\/\/A\/1843_left.jpg\n",
      "file_image :  \/data\/workspace_files\/Ocular_dataset\/ODIR_TrainingDataSet_Organisation\/\/A\/1843_right.jpg\n",
      "file_image :  \/data\/workspace_files\/Ocular_dataset\/ODIR_TrainingDataSet_Organisation\/\/A\/1841_left.jpg\n",
      "file_image :  \/data\/workspace_files\/Ocular_dataset\/ODIR_TrainingDataSet_Organisation\/\/A\/1841_right.jpg\n",
      "file_image :  \/data\/workspace_files\/Ocular_dataset\/ODIR_TrainingDataSet_Organisation\/\/A\/1840_left.jpg\n",
      "file_image :  \/data\/workspace_files\/Ocular_dataset\/ODIR_TrainingDataSet_Organisation\/\/A\/1840_right.jpg\n",
      "file_image :  \/data\/workspace_files\/Ocular_dataset\/ODIR_TrainingDataSet_Organisation\/\/A\/1837_right.jpg\n",
      "file_image :  \/data\/workspace_files\/Ocular_dataset\/ODIR_TrainingDataSet_Organisation\/\/A\/1836_left.jpg\n",
      "file_image :  \/data\/workspace_files\/Ocular_dataset\/ODIR_TrainingDataSet_Organisation\/\/A\/1836_right.jpg\n",
      "file_image :  \/data\/workspace_files\/Ocular_dataset\/ODIR_TrainingDataSet_Organisation\/\/A\/1835_left.jpg\n",
      "file_image :  \/data\/workspace_files\/Ocular_dataset\/ODIR_TrainingDataSet_Organisation\/\/A\/1835_right.jpg\n",
      "file_image :  \/data\/workspace_files\/Ocular_dataset\/ODIR_TrainingDataSet_Organisation\/\/A\/1834_left.jpg\n",
      "file_image :  \/data\/workspace_files\/Ocular_dataset\/ODIR_TrainingDataSet_Organisation\/\/A\/1834_right.jpg\n",
      "file_image :  \/data\/workspace_files\/Ocular_dataset\/ODIR_TrainingDataSet_Organisation\/\/A\/1831_right.jpg\n",
      "file_image :  \/data\/workspace_files\/Ocular_dataset\/ODIR_TrainingDataSet_Organisation\/\/A\/1831_left.jpg\n",
      "file_image :  \/data\/workspace_files\/Ocular_dataset\/ODIR_TrainingDataSet_Organisation\/\/A\/1830_right.jpg\n",
      "file_image :  \/data\/workspace_files\/Ocular_dataset\/ODIR_TrainingDataSet_Organisation\/\/A\/1830_left.jpg\n",
      "file_image :  \/data\/workspace_files\/Ocular_dataset\/ODIR_TrainingDataSet_Organisation\/\/A\/1829_right.jpg\n",
      "file_image :  \/data\/workspace_files\/Ocular_dataset\/ODIR_TrainingDataSet_Organisation\/\/A\/1829_left.jpg\n",
      "file_image :  \/data\/workspace_files\/Ocular_dataset\/ODIR_TrainingDataSet_Organisation\/\/A\/1820_right.jpg\n",
      "file_image :  \/data\/workspace_files\/Ocular_dataset\/ODIR_TrainingDataSet_Organisation\/\/A\/1820_left.jpg\n",
      "file_image :  \/data\/workspace_files\/Ocular_dataset\/ODIR_TrainingDataSet_Organisation\/\/A\/1819_left.jpg\n",
      "file_image :  \/data\/workspace_files\/Ocular_dataset\/ODIR_TrainingDataSet_Organisation\/\/A\/1819_right.jpg\n",
      "file_image :  \/data\/workspace_files\/Ocular_dataset\/ODIR_TrainingDataSet_Organisation\/\/A\/1817_left.jpg\n",
      "file_image :  \/data\/workspace_files\/Ocular_dataset\/ODIR_TrainingDataSet_Organisation\/\/A\/1817_right.jpg\n",
      "file_image :  \/data\/workspace_files\/Ocular_dataset\/ODIR_TrainingDataSet_Organisation\/\/A\/1801_right.jpg\n",
      "file_image :  \/data\/workspace_files\/Ocular_dataset\/ODIR_TrainingDataSet_Organisation\/\/A\/1799_right.jpg\n",
      "file_image :  \/data\/workspace_files\/Ocular_dataset\/ODIR_TrainingDataSet_Organisation\/\/A\/1295_right.jpg\n",
      "file_image :  \/data\/workspace_files\/Ocular_dataset\/ODIR_TrainingDataSet_Organisation\/\/A\/1295_left.jpg\n",
      "file_image :  \/data\/workspace_files\/Ocular_dataset\/ODIR_TrainingDataSet_Organisation\/\/A\/1202_left.jpg\n",
      "file_image :  \/data\/workspace_files\/Ocular_dataset\/ODIR_TrainingDataSet_Organisation\/\/A\/1202_right.jpg\n",
      "file_image :  \/data\/workspace_files\/Ocular_dataset\/ODIR_TrainingDataSet_Organisation\/\/A\/1197_right.jpg\n",
      "file_image :  \/data\/workspace_files\/Ocular_dataset\/ODIR_TrainingDataSet_Organisation\/\/A\/1197_left.jpg\n",
      "file_image :  \/data\/workspace_files\/Ocular_dataset\/ODIR_TrainingDataSet_Organisation\/\/A\/1196_right.jpg\n",
      "file_image :  \/data\/workspace_files\/Ocular_dataset\/ODIR_TrainingDataSet_Organisation\/\/A\/1196_left.jpg\n",
      "file_image :  \/data\/workspace_files\/Ocular_dataset\/ODIR_TrainingDataSet_Organisation\/\/A\/1168_right.jpg\n",
      "file_image :  \/data\/workspace_files\/Ocular_dataset\/ODIR_TrainingDataSet_Organisation\/\/A\/1154_right.jpg\n",
      "file_image :  \/data\/workspace_files\/Ocular_dataset\/ODIR_TrainingDataSet_Organisation\/\/A\/1154_left.jpg\n",
      "file_image :  \/data\/workspace_files\/Ocular_dataset\/ODIR_TrainingDataSet_Organisation\/\/A\/1125_left.jpg\n",
      "file_image :  \/data\/workspace_files\/Ocular_dataset\/ODIR_TrainingDataSet_Organisation\/\/A\/1125_right.jpg\n",
      "file_image :  \/data\/workspace_files\/Ocular_dataset\/ODIR_TrainingDataSet_Organisation\/\/A\/1111_right.jpg\n",
      "file_image :  \/data\/workspace_files\/Ocular_dataset\/ODIR_TrainingDataSet_Organisation\/\/A\/1111_left.jpg\n",
      "file_image :  \/data\/workspace_files\/Ocular_dataset\/ODIR_TrainingDataSet_Organisation\/\/A\/1104_left.jpg\n",
      "H\n",
      "file_image :  \/data\/workspace_files\/Ocular_dataset\/ODIR_TrainingDataSet_Organisation\/\/H\/4592_right.jpg\n",
      "file_image :  \/data\/workspace_files\/Ocular_dataset\/ODIR_TrainingDataSet_Organisation\/\/H\/4592_left.jpg\n",
      "file_image :  \/data\/workspace_files\/Ocular_dataset\/ODIR_TrainingDataSet_Organisation\/\/H\/4591_right.jpg\n",
      "file_image :  \/data\/workspace_files\/Ocular_dataset\/ODIR_TrainingDataSet_Organisation\/\/H\/4581_right.jpg\n",
      "file_image :  \/data\/workspace_files\/Ocular_dataset\/ODIR_TrainingDataSet_Organisation\/\/H\/4581_left.jpg\n",
      "file_image :  \/data\/workspace_files\/Ocular_dataset\/ODIR_TrainingDataSet_Organisation\/\/H\/4579_right.jpg\n",
      "file_image :  \/data\/workspace_files\/Ocular_dataset\/ODIR_TrainingDataSet_Organisation\/\/H\/4579_left.jpg\n",
      "file_image :  \/data\/workspace_files\/Ocular_dataset\/ODIR_TrainingDataSet_Organisation\/\/H\/4562_left.jpg\n",
      "file_image :  \/data\/workspace_files\/Ocular_dataset\/ODIR_TrainingDataSet_Organisation\/\/H\/4562_right.jpg\n",
      "file_image :  \/data\/workspace_files\/Ocular_dataset\/ODIR_TrainingDataSet_Organisation\/\/H\/4559_right.jpg\n",
      "file_image :  \/data\/workspace_files\/Ocular_dataset\/ODIR_TrainingDataSet_Organisation\/\/H\/4559_left.jpg\n",
      "file_image :  \/data\/workspace_files\/Ocular_dataset\/ODIR_TrainingDataSet_Organisation\/\/H\/4478_left.jpg\n",
      "file_image :  \/data\/workspace_files\/Ocular_dataset\/ODIR_TrainingDataSet_Organisation\/\/H\/4327_right.jpg\n",
      "file_image :  \/data\/workspace_files\/Ocular_dataset\/ODIR_TrainingDataSet_Organisation\/\/H\/4215_right.jpg\n",
      "file_image :  \/data\/workspace_files\/Ocular_dataset\/ODIR_TrainingDataSet_Organisation\/\/H\/4214_right.jpg\n",
      "file_image :  \/data\/workspace_files\/Ocular_dataset\/ODIR_TrainingDataSet_Organisation\/\/H\/4207_right.jpg\n",
      "file_image :  \/data\/workspace_files\/Ocular_dataset\/ODIR_TrainingDataSet_Organisation\/\/H\/4202_left.jpg\n",
      "file_image :  \/data\/workspace_files\/Ocular_dataset\/ODIR_TrainingDataSet_Organisation\/\/H\/4199_right.jpg\n",
      "file_image :  \/data\/workspace_files\/Ocular_dataset\/ODIR_TrainingDataSet_Organisation\/\/H\/4129_left.jpg\n",
      "file_image :  \/data\/workspace_files\/Ocular_dataset\/ODIR_TrainingDataSet_Organisation\/\/H\/4077_right.jpg\n",
      "file_image :  \/data\/workspace_files\/Ocular_dataset\/ODIR_TrainingDataSet_Organisation\/\/H\/3951_right.jpg\n",
      "file_image :  \/data\/workspace_files\/Ocular_dataset\/ODIR_TrainingDataSet_Organisation\/\/H\/2070_right.jpg\n",
      "file_image :  \/data\/workspace_files\/Ocular_dataset\/ODIR_TrainingDataSet_Organisation\/\/H\/2070_left.jpg\n",
      "file_image :  \/data\/workspace_files\/Ocular_dataset\/ODIR_TrainingDataSet_Organisation\/\/H\/2066_right.jpg\n",
      "file_image :  \/data\/workspace_files\/Ocular_dataset\/ODIR_TrainingDataSet_Organisation\/\/H\/2066_left.jpg\n",
      "file_image :  \/data\/workspace_files\/Ocular_dataset\/ODIR_TrainingDataSet_Organisation\/\/H\/2048_left.jpg\n",
      "file_image :  \/data\/workspace_files\/Ocular_dataset\/ODIR_TrainingDataSet_Organisation\/\/H\/2004_right.jpg\n",
      "file_image :  \/data\/workspace_files\/Ocular_dataset\/ODIR_TrainingDataSet_Organisation\/\/H\/2004_left.jpg\n",
      "file_image :  \/data\/workspace_files\/Ocular_dataset\/ODIR_TrainingDataSet_Organisation\/\/H\/1989_right.jpg\n",
      "file_image :  \/data\/workspace_files\/Ocular_dataset\/ODIR_TrainingDataSet_Organisation\/\/H\/1989_left.jpg\n",
      "file_image :  \/data\/workspace_files\/Ocular_dataset\/ODIR_TrainingDataSet_Organisation\/\/H\/1867_right.jpg\n",
      "file_image :  \/data\/workspace_files\/Ocular_dataset\/ODIR_TrainingDataSet_Organisation\/\/H\/1867_left.jpg\n",
      "file_image :  \/data\/workspace_files\/Ocular_dataset\/ODIR_TrainingDataSet_Organisation\/\/H\/1853_left.jpg\n",
      "file_image :  \/data\/workspace_files\/Ocular_dataset\/ODIR_TrainingDataSet_Organisation\/\/H\/1833_right.jpg\n",
      "file_image :  \/data\/workspace_files\/Ocular_dataset\/ODIR_TrainingDataSet_Organisation\/\/H\/1833_left.jpg\n",
      "file_image :  \/data\/workspace_files\/Ocular_dataset\/ODIR_TrainingDataSet_Organisation\/\/H\/1377_left.jpg\n",
      "file_image :  \/data\/workspace_files\/Ocular_dataset\/ODIR_TrainingDataSet_Organisation\/\/H\/1373_right.jpg\n",
      "file_image :  \/data\/workspace_files\/Ocular_dataset\/ODIR_TrainingDataSet_Organisation\/\/H\/1373_left.jpg\n",
      "file_image :  \/data\/workspace_files\/Ocular_dataset\/ODIR_TrainingDataSet_Organisation\/\/H\/1303_right.jpg\n",
      "file_image :  \/data\/workspace_files\/Ocular_dataset\/ODIR_TrainingDataSet_Organisation\/\/H\/1081_left.jpg\n",
      "file_image :  \/data\/workspace_files\/Ocular_dataset\/ODIR_TrainingDataSet_Organisation\/\/H\/1081_right.jpg\n",
      "file_image :  \/data\/workspace_files\/Ocular_dataset\/ODIR_TrainingDataSet_Organisation\/\/H\/1056_right.jpg\n",
      "file_image :  \/data\/workspace_files\/Ocular_dataset\/ODIR_TrainingDataSet_Organisation\/\/H\/1056_left.jpg\n",
      "file_image :  \/data\/workspace_files\/Ocular_dataset\/ODIR_TrainingDataSet_Organisation\/\/H\/1048_left.jpg\n",
      "file_image :  \/data\/workspace_files\/Ocular_dataset\/ODIR_TrainingDataSet_Organisation\/\/H\/1048_right.jpg\n",
      "file_image :  \/data\/workspace_files\/Ocular_dataset\/ODIR_TrainingDataSet_Organisation\/\/H\/1046_right.jpg\n",
      "file_image :  \/data\/workspace_files\/Ocular_dataset\/ODIR_TrainingDataSet_Organisation\/\/H\/1046_left.jpg\n",
      "file_image :  \/data\/workspace_files\/Ocular_dataset\/ODIR_TrainingDataSet_Organisation\/\/H\/1045_right.jpg\n",
      "file_image :  \/data\/workspace_files\/Ocular_dataset\/ODIR_TrainingDataSet_Organisation\/\/H\/1045_left.jpg\n",
      "file_image :  \/data\/workspace_files\/Ocular_dataset\/ODIR_TrainingDataSet_Organisation\/\/H\/1031_right.jpg\n",
      "file_image :  \/data\/workspace_files\/Ocular_dataset\/ODIR_TrainingDataSet_Organisation\/\/H\/1024_left.jpg\n",
      "file_image :  \/data\/workspace_files\/Ocular_dataset\/ODIR_TrainingDataSet_Organisation\/\/H\/983_right.jpg\n",
      "file_image :  \/data\/workspace_files\/Ocular_dataset\/ODIR_TrainingDataSet_Organisation\/\/H\/983_left.jpg\n",
      "file_image :  \/data\/workspace_files\/Ocular_dataset\/ODIR_TrainingDataSet_Organisation\/\/H\/968_left.jpg\n",
      "file_image :  \/data\/workspace_files\/Ocular_dataset\/ODIR_TrainingDataSet_Organisation\/\/H\/968_right.jpg\n",
      "file_image :  \/data\/workspace_files\/Ocular_dataset\/ODIR_TrainingDataSet_Organisation\/\/H\/957_left.jpg\n",
      "file_image :  \/data\/workspace_files\/Ocular_dataset\/ODIR_TrainingDataSet_Organisation\/\/H\/957_right.jpg\n",
      "file_image :  \/data\/workspace_files\/Ocular_dataset\/ODIR_TrainingDataSet_Organisation\/\/H\/861_left.jpg\n",
      "file_image :  \/data\/workspace_files\/Ocular_dataset\/ODIR_TrainingDataSet_Organisation\/\/H\/849_left.jpg\n",
      "file_image :  \/data\/workspace_files\/Ocular_dataset\/ODIR_TrainingDataSet_Organisation\/\/H\/849_right.jpg\n",
      "file_image :  \/data\/workspace_files\/Ocular_dataset\/ODIR_TrainingDataSet_Organisation\/\/H\/826_left.jpg\n",
      "file_image :  \/data\/workspace_files\/Ocular_dataset\/ODIR_TrainingDataSet_Organisation\/\/H\/826_right.jpg\n",
      "file_image :  \/data\/workspace_files\/Ocular_dataset\/ODIR_TrainingDataSet_Organisation\/\/H\/818_right.jpg\n",
      "file_image :  \/data\/workspace_files\/Ocular_dataset\/ODIR_TrainingDataSet_Organisation\/\/H\/816_left.jpg\n",
      "file_image :  \/data\/workspace_files\/Ocular_dataset\/ODIR_TrainingDataSet_Organisation\/\/H\/790_right.jpg\n",
      "file_image :  \/data\/workspace_files\/Ocular_dataset\/ODIR_TrainingDataSet_Organisation\/\/H\/790_left.jpg\n",
      "file_image :  \/data\/workspace_files\/Ocular_dataset\/ODIR_TrainingDataSet_Organisation\/\/H\/777_left.jpg\n",
      "file_image :  \/data\/workspace_files\/Ocular_dataset\/ODIR_TrainingDataSet_Organisation\/\/H\/777_right.jpg\n",
      "file_image :  \/data\/workspace_files\/Ocular_dataset\/ODIR_TrainingDataSet_Organisation\/\/H\/759_right.jpg\n",
      "file_image :  \/data\/workspace_files\/Ocular_dataset\/ODIR_TrainingDataSet_Organisation\/\/H\/759_left.jpg\n",
      "file_image :  \/data\/workspace_files\/Ocular_dataset\/ODIR_TrainingDataSet_Organisation\/\/H\/723_right.jpg\n",
      "file_image :  \/data\/workspace_files\/Ocular_dataset\/ODIR_TrainingDataSet_Organisation\/\/H\/723_left.jpg\n",
      "file_image :  \/data\/workspace_files\/Ocular_dataset\/ODIR_TrainingDataSet_Organisation\/\/H\/720_right.jpg\n",
      "file_image :  \/data\/workspace_files\/Ocular_dataset\/ODIR_TrainingDataSet_Organisation\/\/H\/686_left.jpg\n",
      "file_image :  \/data\/workspace_files\/Ocular_dataset\/ODIR_TrainingDataSet_Organisation\/\/H\/686_right.jpg\n",
      "file_image :  \/data\/workspace_files\/Ocular_dataset\/ODIR_TrainingDataSet_Organisation\/\/H\/675_right.jpg\n",
      "file_image :  \/data\/workspace_files\/Ocular_dataset\/ODIR_TrainingDataSet_Organisation\/\/H\/675_left.jpg\n",
      "file_image :  \/data\/workspace_files\/Ocular_dataset\/ODIR_TrainingDataSet_Organisation\/\/H\/571_left.jpg\n",
      "file_image :  \/data\/workspace_files\/Ocular_dataset\/ODIR_TrainingDataSet_Organisation\/\/H\/561_left.jpg\n",
      "file_image :  \/data\/workspace_files\/Ocular_dataset\/ODIR_TrainingDataSet_Organisation\/\/H\/561_right.jpg\n",
      "file_image :  \/data\/workspace_files\/Ocular_dataset\/ODIR_TrainingDataSet_Organisation\/\/H\/543_right.jpg\n",
      "file_image :  \/data\/workspace_files\/Ocular_dataset\/ODIR_TrainingDataSet_Organisation\/\/H\/499_left.jpg\n",
      "file_image :  \/data\/workspace_files\/Ocular_dataset\/ODIR_TrainingDataSet_Organisation\/\/H\/374_right.jpg\n",
      "file_image :  \/data\/workspace_files\/Ocular_dataset\/ODIR_TrainingDataSet_Organisation\/\/H\/374_left.jpg\n",
      "file_image :  \/data\/workspace_files\/Ocular_dataset\/ODIR_TrainingDataSet_Organisation\/\/H\/355_left.jpg\n",
      "file_image :  \/data\/workspace_files\/Ocular_dataset\/ODIR_TrainingDataSet_Organisation\/\/H\/355_right.jpg\n",
      "file_image :  \/data\/workspace_files\/Ocular_dataset\/ODIR_TrainingDataSet_Organisation\/\/H\/345_left.jpg\n",
      "file_image :  \/data\/workspace_files\/Ocular_dataset\/ODIR_TrainingDataSet_Organisation\/\/H\/323_left.jpg\n",
      "file_image :  \/data\/workspace_files\/Ocular_dataset\/ODIR_TrainingDataSet_Organisation\/\/H\/323_right.jpg\n",
      "file_image :  \/data\/workspace_files\/Ocular_dataset\/ODIR_TrainingDataSet_Organisation\/\/H\/315_left.jpg\n",
      "file_image :  \/data\/workspace_files\/Ocular_dataset\/ODIR_TrainingDataSet_Organisation\/\/H\/305_right.jpg\n",
      "file_image :  \/data\/workspace_files\/Ocular_dataset\/ODIR_TrainingDataSet_Organisation\/\/H\/300_right.jpg\n",
      "file_image :  \/data\/workspace_files\/Ocular_dataset\/ODIR_TrainingDataSet_Organisation\/\/H\/300_left.jpg\n",
      "file_image :  \/data\/workspace_files\/Ocular_dataset\/ODIR_TrainingDataSet_Organisation\/\/H\/272_left.jpg\n",
      "file_image :  \/data\/workspace_files\/Ocular_dataset\/ODIR_TrainingDataSet_Organisation\/\/H\/272_right.jpg\n",
      "file_image :  \/data\/workspace_files\/Ocular_dataset\/ODIR_TrainingDataSet_Organisation\/\/H\/179_right.jpg\n",
      "file_image :  \/data\/workspace_files\/Ocular_dataset\/ODIR_TrainingDataSet_Organisation\/\/H\/179_left.jpg\n",
      "file_image :  \/data\/workspace_files\/Ocular_dataset\/ODIR_TrainingDataSet_Organisation\/\/H\/116_left.jpg\n",
      "file_image :  \/data\/workspace_files\/Ocular_dataset\/ODIR_TrainingDataSet_Organisation\/\/H\/116_right.jpg\n",
      "M\n",
      "file_image :  \/data\/workspace_files\/Ocular_dataset\/ODIR_TrainingDataSet_Organisation\/\/M\/1731_left.jpg\n",
      "file_image :  \/data\/workspace_files\/Ocular_dataset\/ODIR_TrainingDataSet_Organisation\/\/M\/1716_left.jpg\n",
      "file_image :  \/data\/workspace_files\/Ocular_dataset\/ODIR_TrainingDataSet_Organisation\/\/M\/1710_left.jpg\n",
      "file_image :  \/data\/workspace_files\/Ocular_dataset\/ODIR_TrainingDataSet_Organisation\/\/M\/1694_right.jpg\n",
      "file_image :  \/data\/workspace_files\/Ocular_dataset\/ODIR_TrainingDataSet_Organisation\/\/M\/1686_left.jpg\n",
      "file_image :  \/data\/workspace_files\/Ocular_dataset\/ODIR_TrainingDataSet_Organisation\/\/M\/1686_right.jpg\n",
      "file_image :  \/data\/workspace_files\/Ocular_dataset\/ODIR_TrainingDataSet_Organisation\/\/M\/1683_right.jpg\n",
      "file_image :  \/data\/workspace_files\/Ocular_dataset\/ODIR_TrainingDataSet_Organisation\/\/M\/1681_right.jpg\n",
      "file_image :  \/data\/workspace_files\/Ocular_dataset\/ODIR_TrainingDataSet_Organisation\/\/M\/1677_right.jpg\n",
      "file_image :  \/data\/workspace_files\/Ocular_dataset\/ODIR_TrainingDataSet_Organisation\/\/M\/1673_right.jpg\n",
      "file_image :  \/data\/workspace_files\/Ocular_dataset\/ODIR_TrainingDataSet_Organisation\/\/M\/1666_right.jpg\n",
      "file_image :  \/data\/workspace_files\/Ocular_dataset\/ODIR_TrainingDataSet_Organisation\/\/M\/1664_right.jpg\n",
      "file_image :  \/data\/workspace_files\/Ocular_dataset\/ODIR_TrainingDataSet_Organisation\/\/M\/1663_left.jpg\n",
      "file_image :  \/data\/workspace_files\/Ocular_dataset\/ODIR_TrainingDataSet_Organisation\/\/M\/1662_left.jpg\n",
      "file_image :  \/data\/workspace_files\/Ocular_dataset\/ODIR_TrainingDataSet_Organisation\/\/M\/1660_left.jpg\n",
      "file_image :  \/data\/workspace_files\/Ocular_dataset\/ODIR_TrainingDataSet_Organisation\/\/M\/1660_right.jpg\n",
      "file_image :  \/data\/workspace_files\/Ocular_dataset\/ODIR_TrainingDataSet_Organisation\/\/M\/1659_right.jpg\n",
      "file_image :  \/data\/workspace_files\/Ocular_dataset\/ODIR_TrainingDataSet_Organisation\/\/M\/1652_right.jpg\n",
      "file_image :  \/data\/workspace_files\/Ocular_dataset\/ODIR_TrainingDataSet_Organisation\/\/M\/1647_left.jpg\n",
      "file_image :  \/data\/workspace_files\/Ocular_dataset\/ODIR_TrainingDataSet_Organisation\/\/M\/1647_right.jpg\n",
      "file_image :  \/data\/workspace_files\/Ocular_dataset\/ODIR_TrainingDataSet_Organisation\/\/M\/1644_right.jpg\n",
      "file_image :  \/data\/workspace_files\/Ocular_dataset\/ODIR_TrainingDataSet_Organisation\/\/M\/1643_left.jpg\n",
      "file_image :  \/data\/workspace_files\/Ocular_dataset\/ODIR_TrainingDataSet_Organisation\/\/M\/1642_right.jpg\n",
      "file_image :  \/data\/workspace_files\/Ocular_dataset\/ODIR_TrainingDataSet_Organisation\/\/M\/1640_left.jpg\n",
      "file_image :  \/data\/workspace_files\/Ocular_dataset\/ODIR_TrainingDataSet_Organisation\/\/M\/1638_left.jpg\n",
      "file_image :  \/data\/workspace_files\/Ocular_dataset\/ODIR_TrainingDataSet_Organisation\/\/M\/1630_right.jpg\n",
      "file_image :  \/data\/workspace_files\/Ocular_dataset\/ODIR_TrainingDataSet_Organisation\/\/M\/1630_left.jpg\n",
      "file_image :  \/data\/workspace_files\/Ocular_dataset\/ODIR_TrainingDataSet_Organisation\/\/M\/1629_left.jpg\n",
      "file_image :  \/data\/workspace_files\/Ocular_dataset\/ODIR_TrainingDataSet_Organisation\/\/M\/1629_right.jpg\n",
      "file_image :  \/data\/workspace_files\/Ocular_dataset\/ODIR_TrainingDataSet_Organisation\/\/M\/1628_left.jpg\n",
      "file_image :  \/data\/workspace_files\/Ocular_dataset\/ODIR_TrainingDataSet_Organisation\/\/M\/1626_left.jpg\n",
      "file_image :  \/data\/workspace_files\/Ocular_dataset\/ODIR_TrainingDataSet_Organisation\/\/M\/1624_left.jpg\n",
      "file_image :  \/data\/workspace_files\/Ocular_dataset\/ODIR_TrainingDataSet_Organisation\/\/M\/1624_right.jpg\n",
      "file_image :  \/data\/workspace_files\/Ocular_dataset\/ODIR_TrainingDataSet_Organisation\/\/M\/1623_left.jpg\n",
      "file_image :  \/data\/workspace_files\/Ocular_dataset\/ODIR_TrainingDataSet_Organisation\/\/M\/1623_right.jpg\n",
      "file_image :  \/data\/workspace_files\/Ocular_dataset\/ODIR_TrainingDataSet_Organisation\/\/M\/1621_left.jpg\n",
      "file_image :  \/data\/workspace_files\/Ocular_dataset\/ODIR_TrainingDataSet_Organisation\/\/M\/1621_right.jpg\n",
      "file_image :  \/data\/workspace_files\/Ocular_dataset\/ODIR_TrainingDataSet_Organisation\/\/M\/1620_right.jpg\n",
      "file_image :  \/data\/workspace_files\/Ocular_dataset\/ODIR_TrainingDataSet_Organisation\/\/M\/1619_right.jpg\n",
      "file_image :  \/data\/workspace_files\/Ocular_dataset\/ODIR_TrainingDataSet_Organisation\/\/M\/1618_right.jpg\n",
      "file_image :  \/data\/workspace_files\/Ocular_dataset\/ODIR_TrainingDataSet_Organisation\/\/M\/1618_left.jpg\n",
      "file_image :  \/data\/workspace_files\/Ocular_dataset\/ODIR_TrainingDataSet_Organisation\/\/M\/1617_right.jpg\n",
      "file_image :  \/data\/workspace_files\/Ocular_dataset\/ODIR_TrainingDataSet_Organisation\/\/M\/1617_left.jpg\n",
      "file_image :  \/data\/workspace_files\/Ocular_dataset\/ODIR_TrainingDataSet_Organisation\/\/M\/1616_right.jpg\n",
      "file_image :  \/data\/workspace_files\/Ocular_dataset\/ODIR_TrainingDataSet_Organisation\/\/M\/1616_left.jpg\n",
      "file_image :  \/data\/workspace_files\/Ocular_dataset\/ODIR_TrainingDataSet_Organisation\/\/M\/1615_right.jpg\n",
      "file_image :  \/data\/workspace_files\/Ocular_dataset\/ODIR_TrainingDataSet_Organisation\/\/M\/1615_left.jpg\n",
      "file_image :  \/data\/workspace_files\/Ocular_dataset\/ODIR_TrainingDataSet_Organisation\/\/M\/1614_right.jpg\n",
      "file_image :  \/data\/workspace_files\/Ocular_dataset\/ODIR_TrainingDataSet_Organisation\/\/M\/1613_right.jpg\n",
      "file_image :  \/data\/workspace_files\/Ocular_dataset\/ODIR_TrainingDataSet_Organisation\/\/M\/1613_left.jpg\n",
      "file_image :  \/data\/workspace_files\/Ocular_dataset\/ODIR_TrainingDataSet_Organisation\/\/M\/1612_right.jpg\n",
      "file_image :  \/data\/workspace_files\/Ocular_dataset\/ODIR_TrainingDataSet_Organisation\/\/M\/1612_left.jpg\n",
      "file_image :  \/data\/workspace_files\/Ocular_dataset\/ODIR_TrainingDataSet_Organisation\/\/M\/1611_left.jpg\n",
      "file_image :  \/data\/workspace_files\/Ocular_dataset\/ODIR_TrainingDataSet_Organisation\/\/M\/1610_left.jpg\n",
      "file_image :  \/data\/workspace_files\/Ocular_dataset\/ODIR_TrainingDataSet_Organisation\/\/M\/1609_left.jpg\n",
      "file_image :  \/data\/workspace_files\/Ocular_dataset\/ODIR_TrainingDataSet_Organisation\/\/M\/1607_right.jpg\n",
      "file_image :  \/data\/workspace_files\/Ocular_dataset\/ODIR_TrainingDataSet_Organisation\/\/M\/1607_left.jpg\n",
      "file_image :  \/data\/workspace_files\/Ocular_dataset\/ODIR_TrainingDataSet_Organisation\/\/M\/1606_right.jpg\n",
      "file_image :  \/data\/workspace_files\/Ocular_dataset\/ODIR_TrainingDataSet_Organisation\/\/M\/1606_left.jpg\n",
      "file_image :  \/data\/workspace_files\/Ocular_dataset\/ODIR_TrainingDataSet_Organisation\/\/M\/1605_left.jpg\n",
      "file_image :  \/data\/workspace_files\/Ocular_dataset\/ODIR_TrainingDataSet_Organisation\/\/M\/1605_right.jpg\n",
      "file_image :  \/data\/workspace_files\/Ocular_dataset\/ODIR_TrainingDataSet_Organisation\/\/M\/1603_right.jpg\n",
      "file_image :  \/data\/workspace_files\/Ocular_dataset\/ODIR_TrainingDataSet_Organisation\/\/M\/1603_left.jpg\n",
      "file_image :  \/data\/workspace_files\/Ocular_dataset\/ODIR_TrainingDataSet_Organisation\/\/M\/1602_right.jpg\n",
      "file_image :  \/data\/workspace_files\/Ocular_dataset\/ODIR_TrainingDataSet_Organisation\/\/M\/1602_left.jpg\n",
      "file_image :  \/data\/workspace_files\/Ocular_dataset\/ODIR_TrainingDataSet_Organisation\/\/M\/1601_left.jpg\n",
      "file_image :  \/data\/workspace_files\/Ocular_dataset\/ODIR_TrainingDataSet_Organisation\/\/M\/1601_right.jpg\n",
      "file_image :  \/data\/workspace_files\/Ocular_dataset\/ODIR_TrainingDataSet_Organisation\/\/M\/1600_right.jpg\n",
      "file_image :  \/data\/workspace_files\/Ocular_dataset\/ODIR_TrainingDataSet_Organisation\/\/M\/1600_left.jpg\n",
      "file_image :  \/data\/workspace_files\/Ocular_dataset\/ODIR_TrainingDataSet_Organisation\/\/M\/1599_left.jpg\n",
      "file_image :  \/data\/workspace_files\/Ocular_dataset\/ODIR_TrainingDataSet_Organisation\/\/M\/1599_right.jpg\n",
      "file_image :  \/data\/workspace_files\/Ocular_dataset\/ODIR_TrainingDataSet_Organisation\/\/M\/1598_left.jpg\n",
      "file_image :  \/data\/workspace_files\/Ocular_dataset\/ODIR_TrainingDataSet_Organisation\/\/M\/1597_right.jpg\n",
      "file_image :  \/data\/workspace_files\/Ocular_dataset\/ODIR_TrainingDataSet_Organisation\/\/M\/1595_right.jpg\n",
      "file_image :  \/data\/workspace_files\/Ocular_dataset\/ODIR_TrainingDataSet_Organisation\/\/M\/1594_left.jpg\n",
      "file_image :  \/data\/workspace_files\/Ocular_dataset\/ODIR_TrainingDataSet_Organisation\/\/M\/1594_right.jpg\n",
      "file_image :  \/data\/workspace_files\/Ocular_dataset\/ODIR_TrainingDataSet_Organisation\/\/M\/1593_right.jpg\n",
      "file_image :  \/data\/workspace_files\/Ocular_dataset\/ODIR_TrainingDataSet_Organisation\/\/M\/1593_left.jpg\n",
      "file_image :  \/data\/workspace_files\/Ocular_dataset\/ODIR_TrainingDataSet_Organisation\/\/M\/1591_left.jpg\n",
      "file_image :  \/data\/workspace_files\/Ocular_dataset\/ODIR_TrainingDataSet_Organisation\/\/M\/1590_right.jpg\n",
      "file_image :  \/data\/workspace_files\/Ocular_dataset\/ODIR_TrainingDataSet_Organisation\/\/M\/1589_right.jpg\n",
      "file_image :  \/data\/workspace_files\/Ocular_dataset\/ODIR_TrainingDataSet_Organisation\/\/M\/1589_left.jpg\n",
      "file_image :  \/data\/workspace_files\/Ocular_dataset\/ODIR_TrainingDataSet_Organisation\/\/M\/1588_right.jpg\n",
      "file_image :  \/data\/workspace_files\/Ocular_dataset\/ODIR_TrainingDataSet_Organisation\/\/M\/1588_left.jpg\n",
      "file_image :  \/data\/workspace_files\/Ocular_dataset\/ODIR_TrainingDataSet_Organisation\/\/M\/1586_right.jpg\n",
      "file_image :  \/data\/workspace_files\/Ocular_dataset\/ODIR_TrainingDataSet_Organisation\/\/M\/1586_left.jpg\n",
      "file_image :  \/data\/workspace_files\/Ocular_dataset\/ODIR_TrainingDataSet_Organisation\/\/M\/1585_right.jpg\n",
      "file_image :  \/data\/workspace_files\/Ocular_dataset\/ODIR_TrainingDataSet_Organisation\/\/M\/1584_left.jpg\n",
      "file_image :  \/data\/workspace_files\/Ocular_dataset\/ODIR_TrainingDataSet_Organisation\/\/M\/1584_right.jpg\n",
      "file_image :  \/data\/workspace_files\/Ocular_dataset\/ODIR_TrainingDataSet_Organisation\/\/M\/1583_right.jpg\n",
      "file_image :  \/data\/workspace_files\/Ocular_dataset\/ODIR_TrainingDataSet_Organisation\/\/M\/1583_left.jpg\n",
      "file_image :  \/data\/workspace_files\/Ocular_dataset\/ODIR_TrainingDataSet_Organisation\/\/M\/1581_right.jpg\n",
      "file_image :  \/data\/workspace_files\/Ocular_dataset\/ODIR_TrainingDataSet_Organisation\/\/M\/1580_left.jpg\n",
      "file_image :  \/data\/workspace_files\/Ocular_dataset\/ODIR_TrainingDataSet_Organisation\/\/M\/1580_right.jpg\n",
      "file_image :  \/data\/workspace_files\/Ocular_dataset\/ODIR_TrainingDataSet_Organisation\/\/M\/1579_right.jpg\n",
      "file_image :  \/data\/workspace_files\/Ocular_dataset\/ODIR_TrainingDataSet_Organisation\/\/M\/1579_left.jpg\n",
      "file_image :  \/data\/workspace_files\/Ocular_dataset\/ODIR_TrainingDataSet_Organisation\/\/M\/1578_right.jpg\n",
      "file_image :  \/data\/workspace_files\/Ocular_dataset\/ODIR_TrainingDataSet_Organisation\/\/M\/1578_left.jpg\n",
      "file_image :  \/data\/workspace_files\/Ocular_dataset\/ODIR_TrainingDataSet_Organisation\/\/M\/1576_left.jpg\n",
      "O\n",
      "file_image :  \/data\/workspace_files\/Ocular_dataset\/ODIR_TrainingDataSet_Organisation\/\/O\/4659_right.jpg\n",
      "file_image :  \/data\/workspace_files\/Ocular_dataset\/ODIR_TrainingDataSet_Organisation\/\/O\/4588_right.jpg\n",
      "file_image :  \/data\/workspace_files\/Ocular_dataset\/ODIR_TrainingDataSet_Organisation\/\/O\/4551_right.jpg\n",
      "file_image :  \/data\/workspace_files\/Ocular_dataset\/ODIR_TrainingDataSet_Organisation\/\/O\/4460_left.jpg\n",
      "file_image :  \/data\/workspace_files\/Ocular_dataset\/ODIR_TrainingDataSet_Organisation\/\/O\/2222_right.jpg\n",
      "file_image :  \/data\/workspace_files\/Ocular_dataset\/ODIR_TrainingDataSet_Organisation\/\/O\/2199_right.jpg\n",
      "file_image :  \/data\/workspace_files\/Ocular_dataset\/ODIR_TrainingDataSet_Organisation\/\/O\/2173_left.jpg\n",
      "file_image :  \/data\/workspace_files\/Ocular_dataset\/ODIR_TrainingDataSet_Organisation\/\/O\/2147_right.jpg\n",
      "file_image :  \/data\/workspace_files\/Ocular_dataset\/ODIR_TrainingDataSet_Organisation\/\/O\/2124_right.jpg\n",
      "file_image :  \/data\/workspace_files\/Ocular_dataset\/ODIR_TrainingDataSet_Organisation\/\/O\/2123_right.jpg\n",
      "file_image :  \/data\/workspace_files\/Ocular_dataset\/ODIR_TrainingDataSet_Organisation\/\/O\/2118_left.jpg\n",
      "file_image :  \/data\/workspace_files\/Ocular_dataset\/ODIR_TrainingDataSet_Organisation\/\/O\/2111_right.jpg\n",
      "file_image :  \/data\/workspace_files\/Ocular_dataset\/ODIR_TrainingDataSet_Organisation\/\/O\/2065_right.jpg\n",
      "file_image :  \/data\/workspace_files\/Ocular_dataset\/ODIR_TrainingDataSet_Organisation\/\/O\/2053_right.jpg\n",
      "file_image :  \/data\/workspace_files\/Ocular_dataset\/ODIR_TrainingDataSet_Organisation\/\/O\/2041_right.jpg\n",
      "file_image :  \/data\/workspace_files\/Ocular_dataset\/ODIR_TrainingDataSet_Organisation\/\/O\/2034_right.jpg\n",
      "file_image :  \/data\/workspace_files\/Ocular_dataset\/ODIR_TrainingDataSet_Organisation\/\/O\/2006_right.jpg\n",
      "file_image :  \/data\/workspace_files\/Ocular_dataset\/ODIR_TrainingDataSet_Organisation\/\/O\/1987_right.jpg\n",
      "file_image :  \/data\/workspace_files\/Ocular_dataset\/ODIR_TrainingDataSet_Organisation\/\/O\/1985_right.jpg\n",
      "file_image :  \/data\/workspace_files\/Ocular_dataset\/ODIR_TrainingDataSet_Organisation\/\/O\/1964_right.jpg\n",
      "file_image :  \/data\/workspace_files\/Ocular_dataset\/ODIR_TrainingDataSet_Organisation\/\/O\/1927_right.jpg\n",
      "file_image :  \/data\/workspace_files\/Ocular_dataset\/ODIR_TrainingDataSet_Organisation\/\/O\/1919_left.jpg\n",
      "file_image :  \/data\/workspace_files\/Ocular_dataset\/ODIR_TrainingDataSet_Organisation\/\/O\/1884_left.jpg\n",
      "file_image :  \/data\/workspace_files\/Ocular_dataset\/ODIR_TrainingDataSet_Organisation\/\/O\/1865_right.jpg\n",
      "file_image :  \/data\/workspace_files\/Ocular_dataset\/ODIR_TrainingDataSet_Organisation\/\/O\/1801_left.jpg\n",
      "file_image :  \/data\/workspace_files\/Ocular_dataset\/ODIR_TrainingDataSet_Organisation\/\/O\/1799_left.jpg\n",
      "file_image :  \/data\/workspace_files\/Ocular_dataset\/ODIR_TrainingDataSet_Organisation\/\/O\/1716_right.jpg\n",
      "file_image :  \/data\/workspace_files\/Ocular_dataset\/ODIR_TrainingDataSet_Organisation\/\/O\/1694_left.jpg\n",
      "file_image :  \/data\/workspace_files\/Ocular_dataset\/ODIR_TrainingDataSet_Organisation\/\/O\/1683_left.jpg\n",
      "file_image :  \/data\/workspace_files\/Ocular_dataset\/ODIR_TrainingDataSet_Organisation\/\/O\/1681_left.jpg\n",
      "file_image :  \/data\/workspace_files\/Ocular_dataset\/ODIR_TrainingDataSet_Organisation\/\/O\/1677_left.jpg\n",
      "file_image :  \/data\/workspace_files\/Ocular_dataset\/ODIR_TrainingDataSet_Organisation\/\/O\/1674_right.jpg\n",
      "file_image :  \/data\/workspace_files\/Ocular_dataset\/ODIR_TrainingDataSet_Organisation\/\/O\/1673_left.jpg\n",
      "file_image :  \/data\/workspace_files\/Ocular_dataset\/ODIR_TrainingDataSet_Organisation\/\/O\/1664_left.jpg\n",
      "file_image :  \/data\/workspace_files\/Ocular_dataset\/ODIR_TrainingDataSet_Organisation\/\/O\/1662_right.jpg\n",
      "file_image :  \/data\/workspace_files\/Ocular_dataset\/ODIR_TrainingDataSet_Organisation\/\/O\/1659_left.jpg\n",
      "file_image :  \/data\/workspace_files\/Ocular_dataset\/ODIR_TrainingDataSet_Organisation\/\/O\/1652_left.jpg\n",
      "file_image :  \/data\/workspace_files\/Ocular_dataset\/ODIR_TrainingDataSet_Organisation\/\/O\/1644_left.jpg\n",
      "file_image :  \/data\/workspace_files\/Ocular_dataset\/ODIR_TrainingDataSet_Organisation\/\/O\/1643_right.jpg\n",
      "file_image :  \/data\/workspace_files\/Ocular_dataset\/ODIR_TrainingDataSet_Organisation\/\/O\/1642_left.jpg\n",
      "file_image :  \/data\/workspace_files\/Ocular_dataset\/ODIR_TrainingDataSet_Organisation\/\/O\/1640_right.jpg\n",
      "file_image :  \/data\/workspace_files\/Ocular_dataset\/ODIR_TrainingDataSet_Organisation\/\/O\/1638_right.jpg\n",
      "file_image :  \/data\/workspace_files\/Ocular_dataset\/ODIR_TrainingDataSet_Organisation\/\/O\/1628_right.jpg\n",
      "file_image :  \/data\/workspace_files\/Ocular_dataset\/ODIR_TrainingDataSet_Organisation\/\/O\/1626_right.jpg\n",
      "file_image :  \/data\/workspace_files\/Ocular_dataset\/ODIR_TrainingDataSet_Organisation\/\/O\/1614_left.jpg\n",
      "file_image :  \/data\/workspace_files\/Ocular_dataset\/ODIR_TrainingDataSet_Organisation\/\/O\/1598_right.jpg\n",
      "file_image :  \/data\/workspace_files\/Ocular_dataset\/ODIR_TrainingDataSet_Organisation\/\/O\/1597_left.jpg\n",
      "file_image :  \/data\/workspace_files\/Ocular_dataset\/ODIR_TrainingDataSet_Organisation\/\/O\/1595_left.jpg\n",
      "file_image :  \/data\/workspace_files\/Ocular_dataset\/ODIR_TrainingDataSet_Organisation\/\/O\/1591_right.jpg\n",
      "file_image :  \/data\/workspace_files\/Ocular_dataset\/ODIR_TrainingDataSet_Organisation\/\/O\/1585_left.jpg\n",
      "file_image :  \/data\/workspace_files\/Ocular_dataset\/ODIR_TrainingDataSet_Organisation\/\/O\/1581_left.jpg\n",
      "file_image :  \/data\/workspace_files\/Ocular_dataset\/ODIR_TrainingDataSet_Organisation\/\/O\/1574_left.jpg\n",
      "file_image :  \/data\/workspace_files\/Ocular_dataset\/ODIR_TrainingDataSet_Organisation\/\/O\/1573_left.jpg\n",
      "file_image :  \/data\/workspace_files\/Ocular_dataset\/ODIR_TrainingDataSet_Organisation\/\/O\/1571_right.jpg\n",
      "file_image :  \/data\/workspace_files\/Ocular_dataset\/ODIR_TrainingDataSet_Organisation\/\/O\/1567_left.jpg\n",
      "file_image :  \/data\/workspace_files\/Ocular_dataset\/ODIR_TrainingDataSet_Organisation\/\/O\/1566_right.jpg\n",
      "file_image :  \/data\/workspace_files\/Ocular_dataset\/ODIR_TrainingDataSet_Organisation\/\/O\/1560_left.jpg\n",
      "file_image :  \/data\/workspace_files\/Ocular_dataset\/ODIR_TrainingDataSet_Organisation\/\/O\/1516_left.jpg\n",
      "file_image :  \/data\/workspace_files\/Ocular_dataset\/ODIR_TrainingDataSet_Organisation\/\/O\/1516_right.jpg\n",
      "file_image :  \/data\/workspace_files\/Ocular_dataset\/ODIR_TrainingDataSet_Organisation\/\/O\/1480_left.jpg\n",
      "file_image :  \/data\/workspace_files\/Ocular_dataset\/ODIR_TrainingDataSet_Organisation\/\/O\/1471_right.jpg\n",
      "file_image :  \/data\/workspace_files\/Ocular_dataset\/ODIR_TrainingDataSet_Organisation\/\/O\/1462_right.jpg\n",
      "file_image :  \/data\/workspace_files\/Ocular_dataset\/ODIR_TrainingDataSet_Organisation\/\/O\/1454_left.jpg\n",
      "file_image :  \/data\/workspace_files\/Ocular_dataset\/ODIR_TrainingDataSet_Organisation\/\/O\/1442_right.jpg\n",
      "file_image :  \/data\/workspace_files\/Ocular_dataset\/ODIR_TrainingDataSet_Organisation\/\/O\/1426_right.jpg\n",
      "file_image :  \/data\/workspace_files\/Ocular_dataset\/ODIR_TrainingDataSet_Organisation\/\/O\/1422_right.jpg\n",
      "file_image :  \/data\/workspace_files\/Ocular_dataset\/ODIR_TrainingDataSet_Organisation\/\/O\/1420_left.jpg\n",
      "file_image :  \/data\/workspace_files\/Ocular_dataset\/ODIR_TrainingDataSet_Organisation\/\/O\/1408_left.jpg\n",
      "file_image :  \/data\/workspace_files\/Ocular_dataset\/ODIR_TrainingDataSet_Organisation\/\/O\/1405_right.jpg\n",
      "file_image :  \/data\/workspace_files\/Ocular_dataset\/ODIR_TrainingDataSet_Organisation\/\/O\/1396_right.jpg\n",
      "file_image :  \/data\/workspace_files\/Ocular_dataset\/ODIR_TrainingDataSet_Organisation\/\/O\/1383_right.jpg\n",
      "file_image :  \/data\/workspace_files\/Ocular_dataset\/ODIR_TrainingDataSet_Organisation\/\/O\/1311_right.jpg\n",
      "file_image :  \/data\/workspace_files\/Ocular_dataset\/ODIR_TrainingDataSet_Organisation\/\/O\/1308_left.jpg\n",
      "file_image :  \/data\/workspace_files\/Ocular_dataset\/ODIR_TrainingDataSet_Organisation\/\/O\/1299_left.jpg\n",
      "file_image :  \/data\/workspace_files\/Ocular_dataset\/ODIR_TrainingDataSet_Organisation\/\/O\/1296_right.jpg\n",
      "file_image :  \/data\/workspace_files\/Ocular_dataset\/ODIR_TrainingDataSet_Organisation\/\/O\/1274_right.jpg\n",
      "file_image :  \/data\/workspace_files\/Ocular_dataset\/ODIR_TrainingDataSet_Organisation\/\/O\/1264_right.jpg\n",
      "file_image :  \/data\/workspace_files\/Ocular_dataset\/ODIR_TrainingDataSet_Organisation\/\/O\/1263_left.jpg\n",
      "file_image :  \/data\/workspace_files\/Ocular_dataset\/ODIR_TrainingDataSet_Organisation\/\/O\/1245_right.jpg\n",
      "file_image :  \/data\/workspace_files\/Ocular_dataset\/ODIR_TrainingDataSet_Organisation\/\/O\/1243_left.jpg\n",
      "file_image :  \/data\/workspace_files\/Ocular_dataset\/ODIR_TrainingDataSet_Organisation\/\/O\/1242_left.jpg\n",
      "file_image :  \/data\/workspace_files\/Ocular_dataset\/ODIR_TrainingDataSet_Organisation\/\/O\/1240_right.jpg\n",
      "file_image :  \/data\/workspace_files\/Ocular_dataset\/ODIR_TrainingDataSet_Organisation\/\/O\/1236_right.jpg\n",
      "file_image :  \/data\/workspace_files\/Ocular_dataset\/ODIR_TrainingDataSet_Organisation\/\/O\/1236_left.jpg\n",
      "file_image :  \/data\/workspace_files\/Ocular_dataset\/ODIR_TrainingDataSet_Organisation\/\/O\/1219_right.jpg\n",
      "file_image :  \/data\/workspace_files\/Ocular_dataset\/ODIR_TrainingDataSet_Organisation\/\/O\/1208_right.jpg\n",
      "file_image :  \/data\/workspace_files\/Ocular_dataset\/ODIR_TrainingDataSet_Organisation\/\/O\/1207_left.jpg\n",
      "file_image :  \/data\/workspace_files\/Ocular_dataset\/ODIR_TrainingDataSet_Organisation\/\/O\/1200_right.jpg\n",
      "file_image :  \/data\/workspace_files\/Ocular_dataset\/ODIR_TrainingDataSet_Organisation\/\/O\/1198_left.jpg\n",
      "file_image :  \/data\/workspace_files\/Ocular_dataset\/ODIR_TrainingDataSet_Organisation\/\/O\/1195_left.jpg\n",
      "file_image :  \/data\/workspace_files\/Ocular_dataset\/ODIR_TrainingDataSet_Organisation\/\/O\/1186_left.jpg\n",
      "file_image :  \/data\/workspace_files\/Ocular_dataset\/ODIR_TrainingDataSet_Organisation\/\/O\/1177_left.jpg\n",
      "file_image :  \/data\/workspace_files\/Ocular_dataset\/ODIR_TrainingDataSet_Organisation\/\/O\/1176_right.jpg\n",
      "file_image :  \/data\/workspace_files\/Ocular_dataset\/ODIR_TrainingDataSet_Organisation\/\/O\/1174_right.jpg\n",
      "file_image :  \/data\/workspace_files\/Ocular_dataset\/ODIR_TrainingDataSet_Organisation\/\/O\/1174_left.jpg\n",
      "file_image :  \/data\/workspace_files\/Ocular_dataset\/ODIR_TrainingDataSet_Organisation\/\/O\/1173_left.jpg\n",
      "file_image :  \/data\/workspace_files\/Ocular_dataset\/ODIR_TrainingDataSet_Organisation\/\/O\/1172_left.jpg\n",
      "file_image :  \/data\/workspace_files\/Ocular_dataset\/ODIR_TrainingDataSet_Organisation\/\/O\/1171_left.jpg\n",
      "file_image :  \/data\/workspace_files\/Ocular_dataset\/ODIR_TrainingDataSet_Organisation\/\/O\/1169_left.jpg\n"
     ],
     "output_type":"stream"
    }
   ],
   "metadata":{
    "datalore":{
     "node_id":"ZHCKJMrpUozehVjHsYfw9J",
     "type":"CODE",
     "hide_input_from_viewers":false,
     "hide_output_from_viewers":false,
     "report_properties":{
      
     }
    }
   }
  },
  {
   "cell_type":"markdown",
   "source":[
    "# Export images vers fichier numpy"
   ],
   "attachments":{
    
   },
   "metadata":{
    "datalore":{
     "node_id":"h3hYIj3EImKmXdKKgIuBMW",
     "type":"MD",
     "hide_input_from_viewers":false,
     "hide_output_from_viewers":false,
     "report_properties":{
      
     }
    }
   }
  },
  {
   "cell_type":"markdown",
   "source":[
    "## Lecture des images et des targets"
   ],
   "attachments":{
    
   },
   "metadata":{
    "datalore":{
     "node_id":"yvRNKI3bm3iJBCF6vpC0Sj",
     "type":"MD",
     "hide_input_from_viewers":false,
     "hide_output_from_viewers":false,
     "report_properties":{
      
     }
    }
   }
  },
  {
   "cell_type":"code",
   "source":[
    "\n",
    "list_classe = os.listdir(PATH_DST_AUG)\n",
    "df_a = pd.DataFrame(columns=['file_name', 'image', 'diag'])\n",
    "list_all_images = []\n",
    "train = []\n",
    "labels = []\n",
    "for classe in list_classe:\n",
    "    path = os.path.join(PATH_DST_AUG, classe)\n",
    "    list_images = [f for f in os.listdir(path) if os.path.isfile(os.path.join(path, f))]\n",
    "    print(f'{classe} = {len(list_images)}')\n",
    "    for image_name in list_images:\n",
    "        image = cv2.imread(os.path.join(path, image_name))\n",
    "        image = cv2.cvtColor(image, cv2.COLOR_BGR2RGB)\n",
    "        #ajout des données dans un dataframe\n",
    "        df_a.loc[len(df_a.index)] = [image_name, image, classe]\n",
    "\n",
    "        train.append(image)\n",
    "        labels.append(classe)\n",
    "        list_all_images.append(image_name)"
   ],
   "execution_count":7,
   "outputs":[
    {
     "name":"stdout",
     "text":[
      "O = 2591\n",
      "M = 2927\n",
      "H = 2857\n",
      "A = 2890\n",
      "C = 2770\n",
      "G = 2901\n",
      "D = 3048\n",
      "N = 2816\n"
     ],
     "output_type":"stream"
    }
   ],
   "metadata":{
    "datalore":{
     "node_id":"vrULSSMaQ0IeWjuCpkdXoY",
     "type":"CODE",
     "hide_input_from_viewers":false,
     "hide_output_from_viewers":false,
     "report_properties":{
      
     }
    }
   }
  },
  {
   "cell_type":"markdown",
   "source":[
    "## stratification des classes"
   ],
   "attachments":{
    
   },
   "metadata":{
    "datalore":{
     "node_id":"cDkLcUaumsm2AwrYdwFVeo",
     "type":"MD",
     "hide_input_from_viewers":true,
     "hide_output_from_viewers":true
    }
   }
  },
  {
   "cell_type":"code",
   "source":[
    "size = 22795\n",
    "stratified = df_a.groupby('diag', group_keys=False)\\\n",
    "                        .apply(lambda x: x.sample(int(np.rint(size*len(x)\/len(df_a)))))\\\n",
    "                        .sample(frac=1).reset_index(drop=True)"
   ],
   "execution_count":8,
   "outputs":[
    
   ],
   "metadata":{
    "datalore":{
     "node_id":"btXtd15rr6dIHmcxHlHWvF",
     "type":"CODE",
     "hide_input_from_viewers":true,
     "hide_output_from_viewers":true
    }
   }
  },
  {
   "cell_type":"code",
   "source":[
    "X = np.array(list(stratified.image))\n",
    "y = np.array(list(stratified.diag))\n",
    "files = np.array(list(stratified.file_name))"
   ],
   "execution_count":9,
   "outputs":[
    
   ],
   "metadata":{
    "datalore":{
     "node_id":"9cWohGmwqCb1kUALEQgh17",
     "type":"CODE",
     "hide_input_from_viewers":true,
     "hide_output_from_viewers":true
    }
   }
  },
  {
   "cell_type":"markdown",
   "source":[
    "## Sauvegarde des tableaux de données"
   ],
   "attachments":{
    
   },
   "metadata":{
    "datalore":{
     "node_id":"DfUHeHzS9WT2Lpd1XHQBZQ",
     "type":"MD",
     "hide_input_from_viewers":false,
     "hide_output_from_viewers":false,
     "report_properties":{
      
     }
    }
   }
  },
  {
   "cell_type":"code",
   "source":[
    "#from sklearn.model_selection import train_test_split\n",
    "#X_train, X_test, y_train, y_test = train_test_split(X, y, test_size = 0.2, random_state = 123)\n",
    "# remplaver le split par du slicing afin de garder le lien avec le nom des fichiers\n",
    "limit_train = int(size * 0.8)\n",
    "\n",
    "X_train = X[:limit_train]\n",
    "X_test = X[limit_train:]\n",
    "\n",
    "files_train = files[:limit_train]\n",
    "files_test = files[limit_train:]\n",
    "\n",
    "y_train = y[:limit_train]\n",
    "y_test = y[limit_train:]\n"
   ],
   "execution_count":10,
   "outputs":[
    
   ],
   "metadata":{
    "datalore":{
     "node_id":"4AJlc4A0WhPtzWpo4C8sF7",
     "type":"CODE",
     "hide_input_from_viewers":false,
     "hide_output_from_viewers":false,
     "report_properties":{
      
     }
    }
   }
  },
  {
   "cell_type":"markdown",
   "source":[
    "X_train_1, X_train_2, y_train_1, y_train_2 = train_test_split(X_train, y_train, test_size = 0.4, random_state = 123)"
   ],
   "attachments":{
    
   },
   "metadata":{
    "datalore":{
     "node_id":"a6NbbCFCKvgEiGMjmZZ9KX",
     "type":"MD",
     "hide_input_from_viewers":true,
     "hide_output_from_viewers":true
    }
   }
  },
  {
   "cell_type":"code",
   "source":[
    "PATH_NPY = '\/data\/workspace_files\/Ocular_dataset\/'\n",
    "np.save(PATH_NPY+FILE_NAME_FEATURES+'_train', X_train)\n",
    "np.save(PATH_NPY+FILE_NAME_FEATURES+'_test', X_test)\n",
    "np.save(PATH_NPY+FILE_NAME_TARGET+'_train', y_train)\n",
    "np.save(PATH_NPY+FILE_NAME_TARGET+'_test', y_test)\n",
    "np.save(PATH_NPY+'name_file_train', files_train)\n",
    "np.save(PATH_NPY+'name_file_test', files_test)"
   ],
   "execution_count":11,
   "outputs":[
    
   ],
   "metadata":{
    "datalore":{
     "node_id":"6WGNyIq0PwSNvcZuSTRzei",
     "type":"CODE",
     "hide_input_from_viewers":false,
     "hide_output_from_viewers":false,
     "report_properties":{
      
     }
    }
   }
  },
  {
   "cell_type":"code",
   "source":[
    
   ],
   "execution_count":null,
   "outputs":[
    
   ],
   "metadata":{
    "datalore":{
     "node_id":"Z3JXDWLmHcuVnmrFbj8QuX",
     "type":"CODE",
     "hide_input_from_viewers":true,
     "hide_output_from_viewers":true
    }
   }
  }
 ],
 "metadata":{
  "kernelspec":{
   "display_name":"Python",
   "language":"python",
   "name":"python"
  },
  "datalore":{
   "version":1,
   "computation_mode":"JUPYTER",
   "package_manager":"pip",
   "base_environment":"default",
   "packages":[
    
   ]
  }
 },
 "nbformat":4,
 "nbformat_minor":4
}